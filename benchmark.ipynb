{
 "cells": [
  {
   "cell_type": "markdown",
   "metadata": {},
   "source": [
    "# Evaluation pipeline\n",
    "\n",
    "**GOAL:**\n",
    "\n",
    "Design a full pipeline for multi-dimensional evaluation of the outputs of a given combination of prompt & LLM for the AUT. \n",
    "\n",
    "Inputs:\n",
    "\n",
    "- outputs of a model with originality and elaboration for the 4 objects for a given LLM and a given prompt\n",
    "\n",
    "Ouput:\n",
    "\n",
    "- graphs, radar charts (1 per object)\n",
    "\n",
    "\n",
    "### TODO:\n",
    "\n",
    "- implement a function for elaboration ++\n",
    "\n",
    "- implement a function for flexibility"
   ]
  },
  {
   "cell_type": "markdown",
   "metadata": {},
   "source": [
    "<!-- HTML table for benchmark evaluation -->\n",
    "<table style=\"border-collapse: collapse; width: 100%; border: 1px solid black;\">\n",
    "    <thead>\n",
    "        <tr style=\"background-color: #f2f2f2;\">\n",
    "            <th style=\"padding: 8px; border: 1px solid black; text-align: left;\">LLM</th>\n",
    "            <th style=\"padding: 8px; border: 1px solid black; text-align: left;\">Prompt</th>\n",
    "            <th style=\"padding: 8px; border: 1px solid black; text-align: left;\">Mean Originality</th>\n",
    "            <th style=\"padding: 8px; border: 1px solid black; text-align: left;\">Std Originality</th>\n",
    "            <th style=\"padding: 8px; border: 1px solid black; text-align: left;\">Elaboration</th>\n",
    "            <th style=\"padding: 8px; border: 1px solid black; text-align: left;\">Flexibility</th>\n",
    "        </tr>\n",
    "    </thead>\n",
    "    <tbody>\n",
    "        <!-- Row 1 -->\n",
    "        <tr>\n",
    "            <td style=\"padding: 8px; border: 1px solid black;\">GPT-3.5</td>\n",
    "            <td style=\"padding: 8px; border: 1px solid black;\">...</td>\n",
    "            <td style=\"padding: 8px; border: 1px solid black;\">...</td>\n",
    "            <td style=\"padding: 8px; border: 1px solid black;\">...</td>\n",
    "            <td style=\"padding: 8px; border: 1px solid black;\">...</td>\n",
    "            <td style=\"padding: 8px; border: 1px solid black;\">...</td>\n",
    "        </tr>\n",
    "        <!-- Row 2 -->\n",
    "        <tr>\n",
    "            <td style=\"padding: 8px; border: 1px solid black;\">GPT-3.5</td>\n",
    "            <td style=\"padding: 8px; border: 1px solid black;\">...</td>\n",
    "            <td style=\"padding: 8px; border: 1px solid black;\">...</td>\n",
    "            <td style=\"padding: 8px; border: 1px solid black;\">...</td>\n",
    "            <td style=\"padding: 8px; border: 1px solid black;\">...</td>\n",
    "            <td style=\"padding: 8px; border: 1px solid black;\">...</td>\n",
    "        </tr>\n",
    "        <!-- Row 3 -->\n",
    "        <tr>\n",
    "            <td style=\"padding: 8px; border: 1px solid black;\">GPT-4</td>\n",
    "            <td style=\"padding: 8px; border: 1px solid black;\">...</td>\n",
    "            <td style=\"padding: 8px; border: 1px solid black;\">...</td>\n",
    "            <td style=\"padding: 8px; border: 1px solid black;\">...</td>\n",
    "            <td style=\"padding: 8px; border: 1px solid black;\">...</td>\n",
    "            <td style=\"padding: 8px; border: 1px solid black;\">...</td>\n",
    "        </tr>\n",
    "        <!-- Row 4 -->\n",
    "        <tr>\n",
    "            <td style=\"padding: 8px; border: 1px solid black;\">GPT-4</td>\n",
    "            <td style=\"padding: 8px; border: 1px solid black;\">...</td>\n",
    "            <td style=\"padding: 8px; border: 1px solid black;\">...</td>\n",
    "            <td style=\"padding: 8px; border: 1px solid black;\">...</td>\n",
    "            <td style=\"padding: 8px; border: 1px solid black;\">...</td>\n",
    "            <td style=\"padding: 8px; border: 1px solid black;\">...</td>\n",
    "        </tr>\n",
    "        <!-- Row 5 -->\n",
    "        <tr>\n",
    "            <td style=\"padding: 8px; border: 1px solid black;\">Mistral</td>\n",
    "            <td style=\"padding: 8px; border: 1px solid black;\">...</td>\n",
    "            <td style=\"padding: 8px; border: 1px solid black;\">...</td>\n",
    "            <td style=\"padding: 8px; border: 1px solid black;\">...</td>\n",
    "            <td style=\"padding: 8px; border: 1px solid black;\">...</td>\n",
    "            <td style=\"padding: 8px; border: 1px solid black;\">...</td>\n",
    "        </tr>\n"
   ]
  },
  {
   "cell_type": "code",
   "execution_count": 1,
   "metadata": {},
   "outputs": [],
   "source": [
    "import pandas as pd\n",
    "import numpy as np\n",
    "import seaborn as sns\n",
    "import matplotlib.pyplot as plt"
   ]
  },
  {
   "cell_type": "code",
   "execution_count": null,
   "metadata": {},
   "outputs": [],
   "source": []
  }
 ],
 "metadata": {
  "kernelspec": {
   "display_name": "ada",
   "language": "python",
   "name": "python3"
  },
  "language_info": {
   "codemirror_mode": {
    "name": "ipython",
    "version": 3
   },
   "file_extension": ".py",
   "mimetype": "text/x-python",
   "name": "python",
   "nbconvert_exporter": "python",
   "pygments_lexer": "ipython3",
   "version": "3.9.18"
  }
 },
 "nbformat": 4,
 "nbformat_minor": 2
}
