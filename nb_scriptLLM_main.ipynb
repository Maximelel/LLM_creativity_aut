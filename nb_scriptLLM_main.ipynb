{
 "cells": [
  {
   "cell_type": "markdown",
   "metadata": {},
   "source": [
    "# Script to prompt LLMs"
   ]
  },
  {
   "cell_type": "code",
   "execution_count": 9,
   "metadata": {},
   "outputs": [],
   "source": [
    "# import packages\n",
    "import requests\n",
    "import json\n",
    "import pandas as pd\n",
    "import os\n",
    "import openai\n",
    "from openai import OpenAI\n",
    "import matplotlib.pyplot as plt\n",
    "import numpy as np\n",
    "import seaborn as sns\n",
    "from tqdm import tqdm\n",
    "\n",
    "from visualization import *\n",
    "from utils import *"
   ]
  },
  {
   "cell_type": "code",
   "execution_count": null,
   "metadata": {},
   "outputs": [],
   "source": [
    "# If OpenAI used\n",
    "# Get API key from the environment variable\n",
    "api_key = os.environ.get('OPENAI_API_KEY')\n",
    "\n",
    "# Set the API key\n",
    "openai.api_key = api_key"
   ]
  },
  {
   "cell_type": "code",
   "execution_count": null,
   "metadata": {},
   "outputs": [],
   "source": [
    "# Define function to create a prompt\n",
    "def create_prompt(object_name, N_responses):\n",
    "    #prompt = f\"Generate alternative uses for the object [{object_name}].\"\n",
    "    prompt = f\"\"\"\n",
    "        You are meant to assist students in group ideation. They are asked to propose alternative\n",
    "        uses for an object and you should propose yours to give them ideas as well as inspire them to \n",
    "        explore other uses. \n",
    "        You are a very creative, open-minded person and can propose creative, out-of-the-box ideas while staying realistic. \n",
    "        Your ideas will be even more appreciated if they are original or useful in real-life or both.\n",
    "        \n",
    "        Generate alternative uses for the object [{object_name}]. \n",
    "        \n",
    "        Provide {N_responses} alternative uses, each explained in a concise sentence and following these examples: \n",
    "        Sock, Color it and maybe make a snake\n",
    "        Sock, Use it as a puppet\n",
    "        Sock, Use it as a dusting cloth\n",
    "        \"\"\"\n",
    "        \n",
    "    return prompt\n",
    "\n",
    "\n",
    "# Define function to call the LLM API\n",
    "def call_openai_api(prompt):\n",
    "    client = OpenAI()\n",
    "    response = client.chat.completions.create(\n",
    "        model = \"gpt-3.5-turbo-0125\",\n",
    "        #model=\"gpt-4-0125-preview\", \n",
    "        messages=[\n",
    "            {\"role\": \"system\", \"content\": \"You are a helpful assistant.\"},\n",
    "            {\"role\": \"user\", \"content\": prompt}\n",
    "            ]#,\n",
    "        #seed=seed,\n",
    "        #max_tokens=200,\n",
    "        #temperature=temperature,\n",
    "        )\n",
    "    return response\n",
    "\n",
    "\n",
    "# Define function to store the result in a JSON file\n",
    "def store_result_json(object_name, alternative_uses):\n",
    "    result = [{\"object_name\": object_name, \"alternative_uses\": use} for use in  alternative_uses.split(\"\\n\") if use.strip()]\n",
    "    with open(f\"./data_ocsai/input_ocsai/aut_{object_name}.json\", \"w\") as json_file:\n",
    "        json.dump(result, json_file)\n",
    "\n",
    "\n",
    "# Define function to create a CSV file and Pandas DataFrame\n",
    "def create_csv_and_dataframe(object_name):\n",
    "    with open(f\"./data_ocsai/input_ocsai/aut_{object_name}.json\", \"r\") as json_file:\n",
    "        data = json.load(json_file)\n",
    "    df = pd.DataFrame(data)\n",
    "    \n",
    "    # remove prefix\n",
    "    df['alternative_uses']= df['alternative_uses'].apply(lambda x: x.split(\", \", 1)[1])\n",
    "    #df['alternative_uses'] = df['alternative_uses'].str.split(f': ').str[1]\n",
    "    #df['alternative_uses'] = df['alternative_uses'].str.split(f'{object_name}: ').str[1]\n",
    "    \n",
    "    #rename the columns to fit ocsai format\n",
    "    df = df.rename(columns={\"object_name\": \"prompt\", \"alternative_uses\": \"response\"})\n",
    "    \n",
    "    # save for evaluation\n",
    "    #df.to_csv(f\"./data_ocsai/input_ocsai/aut_{object_name}.csv\", index=False)\n",
    "    \n",
    "    # Delete the JSON file\n",
    "    os.remove(f\"./data_ocsai/input_ocsai/aut_{object_name}.json\")\n",
    "    \n",
    "    return df\n",
    "\n",
    "# Define function to estimate the price of an OpenAI API request\n",
    "def estimate_price(prompt_tokens, response_tokens):\n",
    "    # Define your pricing model (e.g., price per token)\n",
    "    price_per_input_token = 0.50 / 1e6 # gpt3.5-turbo-0125\n",
    "    price_per_output_token = 1.5 / 1e6 # gpt3.5-turbo-0125\n",
    "    #price_per_input_token = 10 / 1e6 # gpt4-0125-preview\n",
    "    #price_per_output_token = 30 / 1e6 # gpt4-0125-preview\n",
    "    \n",
    "    # Estimate the price based on the total number of tokens\n",
    "    price = (prompt_tokens * price_per_input_token) + (response_tokens * price_per_output_token)\n",
    "    return price\n",
    "\n",
    "# plot mean from outputs LLMs in the histogram of ground truth\n",
    "def plot_mean_histogram(ocsai_eval, ground_truth, object_name, ax):\n",
    "    plt.figure(figsize=(10, 6))\n",
    "    \n",
    "    object_ground_truth = ground_truth[ground_truth['prompt'] == object_name]\n",
    "    \n",
    "    sns.histplot(object_ground_truth['target'], kde=True, label='Humans', ax = ax)\n",
    "    ax.vlines(ocsai_eval['originality'].mean(), 0, ax.get_ylim()[1], colors='red', linestyles='dashed', label='LLM')\n",
    "    ax.set_title(f'Creativity on AUT for {object_name}')\n",
    "    ax.legend()\n",
    "    #plt.xlabel('Mean')\n",
    "    #plt.ylabel('Frequency')"
   ]
  },
  {
   "cell_type": "markdown",
   "metadata": {},
   "source": [
    "### Main function"
   ]
  },
  {
   "cell_type": "code",
   "execution_count": null,
   "metadata": {},
   "outputs": [],
   "source": [
    "ground_truth = pd.read_csv('./../data/cleaned_all_data.csv')\n",
    "\n",
    "objects = list(ground_truth['prompt'].value_counts().head(4).index)\n",
    "print(f\"Top {len(objects)} of objects in the dataset: {objects}\")"
   ]
  },
  {
   "cell_type": "code",
   "execution_count": null,
   "metadata": {},
   "outputs": [],
   "source": [
    "def pipeline_object(object_name, N_responses):\n",
    "    prompt = create_prompt(object_name, N_responses)\n",
    "    response = call_openai_api(prompt)\n",
    "    \n",
    "    response_content = response.choices[0].message.content\n",
    "    system_fingerprint = response.system_fingerprint\n",
    "    prompt_tokens = response.usage.prompt_tokens\n",
    "    completion_tokens = response.usage.total_tokens - response.usage.prompt_tokens\n",
    "\n",
    "    print(f\"System fingerprint: {system_fingerprint}\")\n",
    "    print(f\"Prompt tokens: {prompt_tokens}\")\n",
    "    print(f\"Completion tokens: {completion_tokens}\")\n",
    "\n",
    "    price = estimate_price(prompt_tokens, completion_tokens)\n",
    "    print(f\"Estimated price: ${price}\")\n",
    "    \n",
    "    # store\n",
    "    store_result_json(object_name, response_content)\n",
    "    df = create_csv_and_dataframe(object_name)\n",
    "    return df\n",
    "\n",
    "def call_api_ocsai(prompt, output_llm):\n",
    "    base_url = 'https://openscoring.du.edu/llm'\n",
    "    model = 'ocsai-chatgpt'\n",
    "    input_value = f\"{prompt}, {output_llm}\"\n",
    "    input_type = 'csv'\n",
    "    elab_method = 'whitespace'\n",
    "    language = 'English'\n",
    "    task = 'uses'\n",
    "    question_in_input = 'false'\n",
    "    \n",
    "    # Encode special characters in the input value\n",
    "    input_value_encoded = input_value.replace(' ', '%20').replace(',', '%2C')\n",
    "    \n",
    "    # Construct the URL\n",
    "    url = f\"{base_url}?model={model}&prompt={prompt}&input={input_value_encoded}&input_type={input_type}&elab_method={elab_method}&language={language}&task={task}&question_in_input={question_in_input}\"\n",
    "    \n",
    "    response = requests.get(url)\n",
    "    \n",
    "    if response.status_code != 200:\n",
    "        print(f\"Error: {response.status_code}\")\n",
    "        return None\n",
    "    \n",
    "    return response.json()"
   ]
  },
  {
   "cell_type": "markdown",
   "metadata": {},
   "source": [
    "## Call to GPT"
   ]
  },
  {
   "cell_type": "code",
   "execution_count": null,
   "metadata": {},
   "outputs": [],
   "source": [
    "# Run the pipeline for each object\n",
    "object = objects[0]\n",
    "\n",
    "df = pipeline_object(object, 10)\n",
    "print(f\"length of df: {len(df)}\")\n",
    "df.head()"
   ]
  },
  {
   "cell_type": "markdown",
   "metadata": {},
   "source": [
    "## Evaluation by ocsai"
   ]
  },
  {
   "cell_type": "code",
   "execution_count": null,
   "metadata": {},
   "outputs": [],
   "source": [
    "for i in tqdm(range(len(df))):\n",
    "    df.loc[i, 'originality_ocsai'] = call_api_ocsai(df.loc[i, 'prompt'], df.loc[i, 'response'])['scores'][0]['originality']  # see if we can speed up eval if we pass batches of sentences\n",
    "    df.loc[i, 'elaboration_ocsai'] = call_api_ocsai(df.loc[i, 'prompt'], df.loc[i, 'response'])['scores'][0]['elaboration']\n",
    "\n",
    "df.head()"
   ]
  },
  {
   "cell_type": "code",
   "execution_count": null,
   "metadata": {},
   "outputs": [],
   "source": [
    "# check if there are any NaNs\n",
    "if df.isnull().values.any():\n",
    "    print(\"There are NaNs in the DataFrame\")\n",
    "else:\n",
    "    df.to_csv(f'./data_ocsai/aut_{object}.csv', index=False) \n",
    "    print(\"Saved successfully\")"
   ]
  },
  {
   "cell_type": "code",
   "execution_count": null,
   "metadata": {},
   "outputs": [],
   "source": [
    "# Evaluate (after loading manually the csv on ocsai)\n",
    "brick_ocsai_eval = pd.read_csv('./data_ocsai/aut_brick.csv')\n",
    "box_ocsai_eval = pd.read_csv('./data_ocsai/aut_box.csv')\n",
    "knife_ocsai_eval = pd.read_csv('./data_ocsai/aut_knife.csv')\n",
    "rope_ocsai_eval = pd.read_csv('./data_ocsai/aut_rope.csv')\n",
    "\n",
    "# merge the datasets for all objects\n",
    "ocsai_eval_merged = pd.concat([brick_ocsai_eval, box_ocsai_eval, knife_ocsai_eval, rope_ocsai_eval])\n",
    "print(f\"Length of the merged dataset: {len(ocsai_eval_merged)}\")\n",
    "print(f\"Object: {ocsai_eval_merged['prompt'].unique()}\")\n",
    "ocsai_eval_merged.head()"
   ]
  },
  {
   "cell_type": "code",
   "execution_count": null,
   "metadata": {},
   "outputs": [],
   "source": [
    "# save dataset: change name\n",
    "#ocsai_eval_merged.to_csv('./data_ocsai/merged_df/ocsai_eval_merged_30_gpt_4.csv', index=False) "
   ]
  },
  {
   "cell_type": "code",
   "execution_count": 11,
   "metadata": {},
   "outputs": [
    {
     "data": {
      "text/html": [
       "<div>\n",
       "<style scoped>\n",
       "    .dataframe tbody tr th:only-of-type {\n",
       "        vertical-align: middle;\n",
       "    }\n",
       "\n",
       "    .dataframe tbody tr th {\n",
       "        vertical-align: top;\n",
       "    }\n",
       "\n",
       "    .dataframe thead th {\n",
       "        text-align: right;\n",
       "    }\n",
       "</style>\n",
       "<table border=\"1\" class=\"dataframe\">\n",
       "  <thead>\n",
       "    <tr style=\"text-align: right;\">\n",
       "      <th></th>\n",
       "      <th>prompt</th>\n",
       "      <th>response</th>\n",
       "      <th>originality</th>\n",
       "      <th>elaboration</th>\n",
       "    </tr>\n",
       "  </thead>\n",
       "  <tbody>\n",
       "    <tr>\n",
       "      <th>0</th>\n",
       "      <td>box</td>\n",
       "      <td>Use it as a makeshift stool for reaching high ...</td>\n",
       "      <td>1.7</td>\n",
       "      <td>10.0</td>\n",
       "    </tr>\n",
       "    <tr>\n",
       "      <th>1</th>\n",
       "      <td>box</td>\n",
       "      <td>Transform it into a mini-garden by adding soil...</td>\n",
       "      <td>3.0</td>\n",
       "      <td>10.0</td>\n",
       "    </tr>\n",
       "  </tbody>\n",
       "</table>\n",
       "</div>"
      ],
      "text/plain": [
       "  prompt                                           response  originality  \\\n",
       "0    box  Use it as a makeshift stool for reaching high ...          1.7   \n",
       "1    box  Transform it into a mini-garden by adding soil...          3.0   \n",
       "\n",
       "   elaboration  \n",
       "0         10.0  \n",
       "1         10.0  "
      ]
     },
     "metadata": {},
     "output_type": "display_data"
    },
    {
     "data": {
      "text/html": [
       "<div>\n",
       "<style scoped>\n",
       "    .dataframe tbody tr th:only-of-type {\n",
       "        vertical-align: middle;\n",
       "    }\n",
       "\n",
       "    .dataframe tbody tr th {\n",
       "        vertical-align: top;\n",
       "    }\n",
       "\n",
       "    .dataframe thead th {\n",
       "        text-align: right;\n",
       "    }\n",
       "</style>\n",
       "<table border=\"1\" class=\"dataframe\">\n",
       "  <thead>\n",
       "    <tr style=\"text-align: right;\">\n",
       "      <th></th>\n",
       "      <th>prompt</th>\n",
       "      <th>response</th>\n",
       "      <th>originality</th>\n",
       "      <th>elaboration</th>\n",
       "    </tr>\n",
       "  </thead>\n",
       "  <tbody>\n",
       "    <tr>\n",
       "      <th>0</th>\n",
       "      <td>box</td>\n",
       "      <td>Use it as a mini herb garden by planting herbs...</td>\n",
       "      <td>3.0</td>\n",
       "      <td>11.0</td>\n",
       "    </tr>\n",
       "    <tr>\n",
       "      <th>1</th>\n",
       "      <td>box</td>\n",
       "      <td>Convert it into a unique wall shelf by adding ...</td>\n",
       "      <td>2.0</td>\n",
       "      <td>12.0</td>\n",
       "    </tr>\n",
       "  </tbody>\n",
       "</table>\n",
       "</div>"
      ],
      "text/plain": [
       "  prompt                                           response  originality  \\\n",
       "0    box  Use it as a mini herb garden by planting herbs...          3.0   \n",
       "1    box  Convert it into a unique wall shelf by adding ...          2.0   \n",
       "\n",
       "   elaboration  \n",
       "0         11.0  \n",
       "1         12.0  "
      ]
     },
     "metadata": {},
     "output_type": "display_data"
    },
    {
     "data": {
      "text/html": [
       "<div>\n",
       "<style scoped>\n",
       "    .dataframe tbody tr th:only-of-type {\n",
       "        vertical-align: middle;\n",
       "    }\n",
       "\n",
       "    .dataframe tbody tr th {\n",
       "        vertical-align: top;\n",
       "    }\n",
       "\n",
       "    .dataframe thead th {\n",
       "        text-align: right;\n",
       "    }\n",
       "</style>\n",
       "<table border=\"1\" class=\"dataframe\">\n",
       "  <thead>\n",
       "    <tr style=\"text-align: right;\">\n",
       "      <th></th>\n",
       "      <th>prompt</th>\n",
       "      <th>response</th>\n",
       "      <th>originality</th>\n",
       "      <th>elaboration</th>\n",
       "    </tr>\n",
       "  </thead>\n",
       "  <tbody>\n",
       "    <tr>\n",
       "      <th>0</th>\n",
       "      <td>box</td>\n",
       "      <td>Transform it into a mini garden for succulents.</td>\n",
       "      <td>3.0</td>\n",
       "      <td>8.0</td>\n",
       "    </tr>\n",
       "    <tr>\n",
       "      <th>1</th>\n",
       "      <td>box</td>\n",
       "      <td>Use it as a makeshift sled on snowy days.</td>\n",
       "      <td>2.0</td>\n",
       "      <td>9.0</td>\n",
       "    </tr>\n",
       "  </tbody>\n",
       "</table>\n",
       "</div>"
      ],
      "text/plain": [
       "  prompt                                           response  originality  \\\n",
       "0    box  Transform it into a mini garden for succulents.            3.0   \n",
       "1    box        Use it as a makeshift sled on snowy days.            2.0   \n",
       "\n",
       "   elaboration  \n",
       "0          8.0  \n",
       "1          9.0  "
      ]
     },
     "metadata": {},
     "output_type": "display_data"
    },
    {
     "data": {
      "text/html": [
       "<div>\n",
       "<style scoped>\n",
       "    .dataframe tbody tr th:only-of-type {\n",
       "        vertical-align: middle;\n",
       "    }\n",
       "\n",
       "    .dataframe tbody tr th {\n",
       "        vertical-align: top;\n",
       "    }\n",
       "\n",
       "    .dataframe thead th {\n",
       "        text-align: right;\n",
       "    }\n",
       "</style>\n",
       "<table border=\"1\" class=\"dataframe\">\n",
       "  <thead>\n",
       "    <tr style=\"text-align: right;\">\n",
       "      <th></th>\n",
       "      <th>prompt</th>\n",
       "      <th>response</th>\n",
       "      <th>originality</th>\n",
       "      <th>elaboration</th>\n",
       "    </tr>\n",
       "  </thead>\n",
       "  <tbody>\n",
       "    <tr>\n",
       "      <th>0</th>\n",
       "      <td>box</td>\n",
       "      <td>Transform it into a mini greenhouse for starti...</td>\n",
       "      <td>3.0</td>\n",
       "      <td>9.0</td>\n",
       "    </tr>\n",
       "    <tr>\n",
       "      <th>1</th>\n",
       "      <td>box</td>\n",
       "      <td>Cut out shapes and use it as a stencil for art...</td>\n",
       "      <td>3.0</td>\n",
       "      <td>12.0</td>\n",
       "    </tr>\n",
       "  </tbody>\n",
       "</table>\n",
       "</div>"
      ],
      "text/plain": [
       "  prompt                                           response  originality  \\\n",
       "0    box  Transform it into a mini greenhouse for starti...          3.0   \n",
       "1    box  Cut out shapes and use it as a stencil for art...          3.0   \n",
       "\n",
       "   elaboration  \n",
       "0          9.0  \n",
       "1         12.0  "
      ]
     },
     "metadata": {},
     "output_type": "display_data"
    }
   ],
   "source": [
    "# load data\n",
    "ocsai_eval_merged_gpt35_30 = pd.read_csv('./data_ocsai/merged_df/ocsai_eval_merged_30_gpt_3_5.csv')\n",
    "ocsai_eval_merged_gpt4_30 = pd.read_csv('./data_ocsai/merged_df/ocsai_eval_merged_30_gpt_4.csv')\n",
    "\n",
    "ocsai_eval_merged_gpt35_100, ocsai_eval_merged_gpt35_4x25 = load_data_exp1('gpt_35')\n",
    "ocsai_eval_merged_gpt4_100, ocsai_eval_merged_gpt4_4x25 = load_data_exp1('gpt_4')\n",
    "\n",
    "display(ocsai_eval_merged_gpt35_100.head(2), ocsai_eval_merged_gpt35_4x25.head(2), ocsai_eval_merged_gpt4_100.head(2), ocsai_eval_merged_gpt4_4x25.head(2))"
   ]
  },
  {
   "cell_type": "markdown",
   "metadata": {},
   "source": [
    "### Evaluate similarity of responses\n",
    "\n",
    "- rouge score: need to find pairs of sentences\n",
    "- semantic distance\n",
    "- use embeddings "
   ]
  },
  {
   "cell_type": "code",
   "execution_count": null,
   "metadata": {},
   "outputs": [],
   "source": [
    "# compute the rouge score between the outputs of the LLMs\n",
    "\n",
    "def evaluate_rouge(sentences):\n",
    "    \n",
    "    #create pairs of sentences\n",
    "    pairs = \n",
    "    \n",
    "\n",
    "    rouge = evaluate.load('rouge')\n",
    "    \n",
    "    rouge_scores = rouge.compute(predictions=predictions, references=references)\n",
    "\n",
    "    return rouge_scores\n"
   ]
  },
  {
   "cell_type": "code",
   "execution_count": null,
   "metadata": {},
   "outputs": [],
   "source": [
    "hofelich_elaboration = pd.read_csv(\"./../data/hofelich/HMSL_Elaboration_scores_all.csv\")\n",
    "\n",
    "hofelich_elaboration.head()"
   ]
  },
  {
   "cell_type": "markdown",
   "metadata": {},
   "source": [
    "## Evaluate elaboration"
   ]
  },
  {
   "cell_type": "code",
   "execution_count": 19,
   "metadata": {},
   "outputs": [
    {
     "name": "stderr",
     "output_type": "stream",
     "text": [
      "[nltk_data] Error loading punkt: <urlopen error [Errno 11001]\n",
      "[nltk_data]     getaddrinfo failed>\n",
      "[nltk_data] Error loading stopwords: <urlopen error [Errno 11001]\n",
      "[nltk_data]     getaddrinfo failed>\n"
     ]
    }
   ],
   "source": [
    "import nltk\n",
    "from nltk.corpus import stopwords\n",
    "\n",
    "# Download NLTK resources\n",
    "nltk.download('punkt')\n",
    "nltk.download('stopwords')\n",
    "\n",
    "# Define stop words\n",
    "stop_words = set(stopwords.words('english'))\n",
    "\n",
    "# Function to calculate elaboration\n",
    "def calculate_elaboration(sentence, remove_stop_words):\n",
    "    # Tokenize the sentence\n",
    "    tokens = nltk.word_tokenize(sentence)\n",
    "    \n",
    "    if remove_stop_words == True:\n",
    "        # Remove stop words\n",
    "        tokens = [word for word in tokens if word.lower() not in stop_words]\n",
    "    \n",
    "    # Count the remaining words\n",
    "    return len(tokens)"
   ]
  },
  {
   "cell_type": "code",
   "execution_count": 35,
   "metadata": {},
   "outputs": [
    {
     "data": {
      "image/png": "[encoded data removed]",
      "text/plain": [
       "<Figure size 1500x400 with 4 Axes>"
      ]
     },
     "metadata": {},
     "output_type": "display_data"
    }
   ],
   "source": [
    "# elaboration humans\n",
    "# apply normal and custom elaboration to ground truth\n",
    "ground_truth_elab = ground_truth.copy()\n",
    "ground_truth_elab['elaboration'] = ground_truth_elab['response'].apply(calculate_elaboration, remove_stop_words = False)\n",
    "ground_truth_elab['elaboration_2'] = ground_truth_elab['response'].apply(calculate_elaboration, remove_stop_words = True)\n",
    "\n",
    "# print average number of elaboration per object:\n",
    "\n",
    "\n",
    "fig, axs = plt.subplots(1,4, figsize=(15, 4), sharey=True)\n",
    "for i, object_name in enumerate(objects):\n",
    "    object_ground_truth_elab = ground_truth_elab[ground_truth_elab['prompt'] == object_name]\n",
    "    \n",
    "    sns.histplot(object_ground_truth_elab['elaboration'], label=f'With stop words', ax = axs[i], kde = True)\n",
    "    sns.histplot(object_ground_truth_elab['elaboration_2'], label=f'Without stop words', ax = axs[i], kde = True)\n",
    "    \n",
    "    axs[i].set_title(f'{object_name}')\n",
    "    axs[i].legend()\n",
    "plt.suptitle(f'Elaboration on AUT of humans')\n",
    "plt.tight_layout()\n",
    "plt.show()"
   ]
  },
  {
   "cell_type": "code",
   "execution_count": 36,
   "metadata": {},
   "outputs": [
    {
     "data": {
      "text/html": [
       "<div>\n",
       "<style scoped>\n",
       "    .dataframe tbody tr th:only-of-type {\n",
       "        vertical-align: middle;\n",
       "    }\n",
       "\n",
       "    .dataframe tbody tr th {\n",
       "        vertical-align: top;\n",
       "    }\n",
       "\n",
       "    .dataframe thead th {\n",
       "        text-align: right;\n",
       "    }\n",
       "</style>\n",
       "<table border=\"1\" class=\"dataframe\">\n",
       "  <thead>\n",
       "    <tr style=\"text-align: right;\">\n",
       "      <th></th>\n",
       "      <th>prompt</th>\n",
       "      <th>response</th>\n",
       "      <th>originality</th>\n",
       "      <th>elaboration</th>\n",
       "      <th>elaboration_2</th>\n",
       "    </tr>\n",
       "  </thead>\n",
       "  <tbody>\n",
       "    <tr>\n",
       "      <th>0</th>\n",
       "      <td>box</td>\n",
       "      <td>Use it as a makeshift stool for reaching high ...</td>\n",
       "      <td>1.7</td>\n",
       "      <td>10.0</td>\n",
       "      <td>7</td>\n",
       "    </tr>\n",
       "    <tr>\n",
       "      <th>1</th>\n",
       "      <td>box</td>\n",
       "      <td>Transform it into a mini-garden by adding soil...</td>\n",
       "      <td>3.0</td>\n",
       "      <td>10.0</td>\n",
       "      <td>6</td>\n",
       "    </tr>\n",
       "    <tr>\n",
       "      <th>2</th>\n",
       "      <td>box</td>\n",
       "      <td>Cut it up to create a DIY puzzle for kids.</td>\n",
       "      <td>2.7</td>\n",
       "      <td>10.0</td>\n",
       "      <td>6</td>\n",
       "    </tr>\n",
       "    <tr>\n",
       "      <th>3</th>\n",
       "      <td>box</td>\n",
       "      <td>Use it as a base for a homemade pinhole camera.</td>\n",
       "      <td>3.0</td>\n",
       "      <td>10.0</td>\n",
       "      <td>6</td>\n",
       "    </tr>\n",
       "    <tr>\n",
       "      <th>4</th>\n",
       "      <td>box</td>\n",
       "      <td>Turn it into a birdhouse by adding a small ent...</td>\n",
       "      <td>2.0</td>\n",
       "      <td>13.0</td>\n",
       "      <td>8</td>\n",
       "    </tr>\n",
       "  </tbody>\n",
       "</table>\n",
       "</div>"
      ],
      "text/plain": [
       "  prompt                                           response  originality  \\\n",
       "0    box  Use it as a makeshift stool for reaching high ...          1.7   \n",
       "1    box  Transform it into a mini-garden by adding soil...          3.0   \n",
       "2    box         Cut it up to create a DIY puzzle for kids.          2.7   \n",
       "3    box    Use it as a base for a homemade pinhole camera.          3.0   \n",
       "4    box  Turn it into a birdhouse by adding a small ent...          2.0   \n",
       "\n",
       "   elaboration  elaboration_2  \n",
       "0         10.0              7  \n",
       "1         10.0              6  \n",
       "2         10.0              6  \n",
       "3         10.0              6  \n",
       "4         13.0              8  "
      ]
     },
     "execution_count": 36,
     "metadata": {},
     "output_type": "execute_result"
    }
   ],
   "source": [
    "test = ocsai_eval_merged_gpt35_100.copy()\n",
    "\n",
    "# Apply the calculate_elaboration function to the \"response\" column\n",
    "test['elaboration_2'] = test['response'].apply(calculate_elaboration, remove_stop_words = True)\n",
    "\n",
    "test.head()"
   ]
  },
  {
   "cell_type": "code",
   "execution_count": 37,
   "metadata": {},
   "outputs": [
    {
     "data": {
      "image/png": "[encoded data removed]",
      "text/plain": [
       "<Figure size 1500x400 with 4 Axes>"
      ]
     },
     "metadata": {},
     "output_type": "display_data"
    }
   ],
   "source": [
    "fig, axs = plt.subplots(1,4, figsize=(15, 4), sharey=True)\n",
    "for i, object_name in enumerate(objects):\n",
    "    # normalize the values in ground truth and ocsai_eval_merged\n",
    "    object_test = test[test['prompt'] == object_name]\n",
    "\n",
    "    sns.histplot(object_test['elaboration'], label=f'GPT3.5, elab. ocsai', ax = axs[i])\n",
    "    sns.histplot(object_test['elaboration_2'], label=f'GPT3.5, elab. 2', ax = axs[i])\n",
    "    \n",
    "    axs[i].set_title(f'{object_name}')\n",
    "    axs[i].legend()\n",
    "plt.suptitle(f'Statistical difference of Elaboration on AUT between LLM and humans')\n",
    "plt.tight_layout()\n",
    "plt.show()"
   ]
  },
  {
   "cell_type": "code",
   "execution_count": null,
   "metadata": {},
   "outputs": [],
   "source": []
  }
 ],
 "metadata": {
  "kernelspec": {
   "display_name": "ml",
   "language": "python",
   "name": "python3"
  },
  "language_info": {
   "codemirror_mode": {
    "name": "ipython",
    "version": 3
   },
   "file_extension": ".py",
   "mimetype": "text/x-python",
   "name": "python",
   "nbconvert_exporter": "python",
   "pygments_lexer": "ipython3",
   "version": "3.9.18"
  }
 },
 "nbformat": 4,
 "nbformat_minor": 2
}
