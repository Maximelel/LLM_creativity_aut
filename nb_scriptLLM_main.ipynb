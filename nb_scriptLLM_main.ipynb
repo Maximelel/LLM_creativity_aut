{
 "cells": [
  {
   "cell_type": "markdown",
   "metadata": {},
   "source": [
    "# Script to prompt LLMs"
   ]
  },
  {
   "cell_type": "code",
   "execution_count": 53,
   "metadata": {},
   "outputs": [],
   "source": [
    "# import packages\n",
    "import requests\n",
    "import json\n",
    "import pandas as pd\n",
    "import os\n",
    "import openai\n",
    "from openai import OpenAI\n",
    "import matplotlib.pyplot as plt\n",
    "import numpy as np\n",
    "import seaborn as sns\n",
    "from tqdm import tqdm\n",
    "\n",
    "from visualization import *\n",
    "from utils import *\n",
    "\n",
    "# import warning\n",
    "import warnings\n",
    "warnings.filterwarnings(\"ignore\")"
   ]
  },
  {
   "cell_type": "code",
   "execution_count": 2,
   "metadata": {},
   "outputs": [],
   "source": [
    "%load_ext autoreload\n",
    "%autoreload 2"
   ]
  },
  {
   "cell_type": "code",
   "execution_count": 3,
   "metadata": {},
   "outputs": [],
   "source": [
    "# If OpenAI used\n",
    "# Get API key from the environment variable\n",
    "api_key = os.environ.get('OPENAI_API_KEY')\n",
    "\n",
    "# Set the API key\n",
    "openai.api_key = api_key"
   ]
  },
  {
   "cell_type": "code",
   "execution_count": 132,
   "metadata": {},
   "outputs": [],
   "source": [
    "# Define function to create a prompt\n",
    "def create_prompt(object_name, N_responses):\n",
    "    prompt = f\"\"\"\n",
    "    What is a surprising use for a {object_name}?\n",
    "    \n",
    "    Generate exactly {N_responses} alternative uses for the object [{object_name}]. \n",
    "    \n",
    "    Each alternative use should be a concise sentence and follow the same format as the examples below: \n",
    "    Sock, Color it and maybe make a snake\n",
    "    Sock, Use it as a puppet\n",
    "    \"\"\"\n",
    "    return prompt\n",
    "\n",
    "\n",
    "# Define function to call the LLM API\n",
    "def call_openai_api(prompt, llm):\n",
    "    client = OpenAI()\n",
    "    \n",
    "    response = client.chat.completions.create(\n",
    "        model = llm,\n",
    "        #model = \"gpt-3.5-turbo-0125\",\n",
    "        #model=\"gpt-4-0125-preview\", \n",
    "        messages=[\n",
    "            {\"role\": \"system\", \"content\": \"You are a helpful assistant.\"},\n",
    "            {\"role\": \"user\", \"content\": prompt}\n",
    "            ]#,\n",
    "        #seed=seed,\n",
    "        #max_tokens=200,\n",
    "        #temperature=temperature,\n",
    "        )\n",
    "    return response\n",
    "\n",
    "\n",
    "# Define function to store the result in a JSON file\n",
    "def store_result_json(object_name, alternative_uses, path_folder_to_save, llm_name):\n",
    "    result = [{\"object_name\": object_name, \"alternative_uses\": use} for use in  alternative_uses.split(\"\\n\") if use.strip()]\n",
    "    with open(path_folder_to_save + f\"/{llm_name}_aut_{object_name}.json\", \"w\") as json_file:\n",
    "        json.dump(result, json_file)\n",
    "\n",
    "\n",
    "# Define function to create a CSV file and Pandas DataFrame\n",
    "def create_csv_and_dataframe(object_name, path_folder_to_save, llm_name):\n",
    "    with open(path_folder_to_save + f\"/{llm_name}_aut_{object_name}.json\", \"r\") as json_file:\n",
    "        data = json.load(json_file)\n",
    "    df = pd.DataFrame(data)\n",
    "    \n",
    "    # remove the first and last lines of the alternative uses\n",
    "    df = df.iloc[1:-1].reset_index(drop=True)\n",
    "    \n",
    "    # remove prefix\n",
    "    df['alternative_uses']= df['alternative_uses'].apply(lambda x: x.split(\", \", 1)[1])\n",
    "    \n",
    "    #rename the columns to fit ocsai format\n",
    "    df = df.rename(columns={\"object_name\": \"prompt\", \"alternative_uses\": \"response\"})\n",
    "    \n",
    "    # save for evaluation\n",
    "    df.to_csv(path_folder_to_save + f\"/{llm_name}_aut_{object_name}.csv\", index=False)\n",
    "    \n",
    "    # Delete the JSON file\n",
    "    os.remove(path_folder_to_save + f\"/{llm_name}_aut_{object_name}.json\")\n",
    "    \n",
    "    return df\n",
    "\n",
    "# Define function to estimate the price of an OpenAI API request\n",
    "def estimate_price(prompt_tokens, response_tokens, llm_name):\n",
    "    # Define your pricing model (e.g., price per token)\n",
    "    if llm_name == \"gpt35\":\n",
    "        price_per_input_token = 0.50 / 1e6 # gpt3.5-turbo-0125\n",
    "        price_per_output_token = 1.5 / 1e6 # gpt3.5-turbo-0125\n",
    "    elif llm_name == \"gpt4\":\n",
    "        price_per_input_token = 10 / 1e6 # gpt4-0125-preview\n",
    "        price_per_output_token = 30 / 1e6 # gpt4-0125-preview\n",
    "    else:\n",
    "        price_per_input_token = 0\n",
    "        price_per_output_token = 0\n",
    "        print(\"Error with the price estimation (wrong name of model)\")\n",
    "    \n",
    "    # Estimate the price based on the total number of tokens\n",
    "    price = (prompt_tokens * price_per_input_token) + (response_tokens * price_per_output_token)\n",
    "    return price\n",
    "\n",
    "def pipeline_object(object_name, llm, llm_name, N_responses, path_folder_to_save):\n",
    "    prompt = create_prompt(object_name, N_responses)\n",
    "    response = call_openai_api(prompt, llm)\n",
    "    \n",
    "    response_content = response.choices[0].message.content\n",
    "    system_fingerprint = response.system_fingerprint\n",
    "    prompt_tokens = response.usage.prompt_tokens\n",
    "    completion_tokens = response.usage.total_tokens - response.usage.prompt_tokens\n",
    "\n",
    "    print(f\"System fingerprint: {system_fingerprint}\")\n",
    "    print(f\"Prompt tokens: {prompt_tokens}\")\n",
    "    print(f\"Completion tokens: {completion_tokens}\")\n",
    "\n",
    "    price = estimate_price(prompt_tokens, completion_tokens, llm_name)\n",
    "    print(f\"Estimated price: ${price}\")\n",
    "    \n",
    "    # store\n",
    "    store_result_json(object_name, response_content, path_folder_to_save, llm_name)\n",
    "    df = create_csv_and_dataframe(object_name, path_folder_to_save, llm_name)\n",
    "    return df"
   ]
  },
  {
   "cell_type": "code",
   "execution_count": 96,
   "metadata": {},
   "outputs": [],
   "source": [
    "objects = ['brick', 'box', 'knife', 'rope']"
   ]
  },
  {
   "cell_type": "markdown",
   "metadata": {},
   "source": [
    "## Call to OpenAI API"
   ]
  },
  {
   "cell_type": "code",
   "execution_count": 130,
   "metadata": {},
   "outputs": [
    {
     "name": "stdout",
     "output_type": "stream",
     "text": [
      "System fingerprint: None\n",
      "Prompt tokens: 85\n",
      "Completion tokens: 127\n",
      "Estimated price: $0.000233\n",
      "length of df: 8\n"
     ]
    },
    {
     "data": {
      "text/html": [
       "<div>\n",
       "<style scoped>\n",
       "    .dataframe tbody tr th:only-of-type {\n",
       "        vertical-align: middle;\n",
       "    }\n",
       "\n",
       "    .dataframe tbody tr th {\n",
       "        vertical-align: top;\n",
       "    }\n",
       "\n",
       "    .dataframe thead th {\n",
       "        text-align: right;\n",
       "    }\n",
       "</style>\n",
       "<table border=\"1\" class=\"dataframe\">\n",
       "  <thead>\n",
       "    <tr style=\"text-align: right;\">\n",
       "      <th></th>\n",
       "      <th>prompt</th>\n",
       "      <th>response</th>\n",
       "    </tr>\n",
       "  </thead>\n",
       "  <tbody>\n",
       "    <tr>\n",
       "      <th>0</th>\n",
       "      <td>brick</td>\n",
       "      <td>Arrange them for a rustic garden path</td>\n",
       "    </tr>\n",
       "    <tr>\n",
       "      <th>1</th>\n",
       "      <td>brick</td>\n",
       "      <td>Stack them vertically for a makeshift barbeque</td>\n",
       "    </tr>\n",
       "    <tr>\n",
       "      <th>2</th>\n",
       "      <td>brick</td>\n",
       "      <td>Use as weights for makeshift outdoor workouts</td>\n",
       "    </tr>\n",
       "    <tr>\n",
       "      <th>3</th>\n",
       "      <td>brick</td>\n",
       "      <td>Carve out a hollow space for a unique plant pot</td>\n",
       "    </tr>\n",
       "    <tr>\n",
       "      <th>4</th>\n",
       "      <td>brick</td>\n",
       "      <td>Create a DIY doorstop by wrapping it in fabric</td>\n",
       "    </tr>\n",
       "  </tbody>\n",
       "</table>\n",
       "</div>"
      ],
      "text/plain": [
       "  prompt                                           response\n",
       "0  brick            Arrange them for a rustic garden path  \n",
       "1  brick   Stack them vertically for a makeshift barbeque  \n",
       "2  brick    Use as weights for makeshift outdoor workouts  \n",
       "3  brick  Carve out a hollow space for a unique plant pot  \n",
       "4  brick   Create a DIY doorstop by wrapping it in fabric  "
      ]
     },
     "execution_count": 130,
     "metadata": {},
     "output_type": "execute_result"
    }
   ],
   "source": [
    "# Run the pipeline for each object\n",
    "object_name = objects[0]\n",
    "path_folder_to_save = \"./data_to_process/prompt_6\"\n",
    "llm = \"gpt-3.5-turbo-0125\"\n",
    "llm_name = \"gpt35\"\n",
    "#llm = \"gpt-4-0125-preview\"\n",
    "#llm_name = \"gpt4\"\n",
    "\n",
    "df = pipeline_object(object_name, llm, llm_name, 10, path_folder_to_save)\n",
    "print(f\"length of df: {len(df)}\")\n",
    "df.head()"
   ]
  },
  {
   "cell_type": "markdown",
   "metadata": {},
   "source": [
    "### Evaluate originality with ocsai"
   ]
  },
  {
   "cell_type": "code",
   "execution_count": 108,
   "metadata": {},
   "outputs": [
    {
     "name": "stderr",
     "output_type": "stream",
     "text": [
      "100%|██████████| 100/100 [03:22<00:00,  2.02s/it]\n"
     ]
    },
    {
     "data": {
      "text/html": [
       "<div>\n",
       "<style scoped>\n",
       "    .dataframe tbody tr th:only-of-type {\n",
       "        vertical-align: middle;\n",
       "    }\n",
       "\n",
       "    .dataframe tbody tr th {\n",
       "        vertical-align: top;\n",
       "    }\n",
       "\n",
       "    .dataframe thead th {\n",
       "        text-align: right;\n",
       "    }\n",
       "</style>\n",
       "<table border=\"1\" class=\"dataframe\">\n",
       "  <thead>\n",
       "    <tr style=\"text-align: right;\">\n",
       "      <th></th>\n",
       "      <th>prompt</th>\n",
       "      <th>response</th>\n",
       "      <th>originality</th>\n",
       "      <th>elaboration</th>\n",
       "    </tr>\n",
       "  </thead>\n",
       "  <tbody>\n",
       "    <tr>\n",
       "      <th>0</th>\n",
       "      <td>rope</td>\n",
       "      <td>Weave a hammock for backyard relaxation.</td>\n",
       "      <td>1.3</td>\n",
       "      <td>6.0</td>\n",
       "    </tr>\n",
       "    <tr>\n",
       "      <th>1</th>\n",
       "      <td>rope</td>\n",
       "      <td>Create a vertical garden by hanging pots.</td>\n",
       "      <td>3.3</td>\n",
       "      <td>7.0</td>\n",
       "    </tr>\n",
       "    <tr>\n",
       "      <th>2</th>\n",
       "      <td>rope</td>\n",
       "      <td>Make a sturdy leash for your pet.</td>\n",
       "      <td>1.3</td>\n",
       "      <td>7.0</td>\n",
       "    </tr>\n",
       "    <tr>\n",
       "      <th>3</th>\n",
       "      <td>rope</td>\n",
       "      <td>Design a unique piece of jewelry, like a brace...</td>\n",
       "      <td>2.0</td>\n",
       "      <td>6.0</td>\n",
       "    </tr>\n",
       "    <tr>\n",
       "      <th>4</th>\n",
       "      <td>rope</td>\n",
       "      <td>Craft a rustic picture frame.</td>\n",
       "      <td>2.7</td>\n",
       "      <td>5.0</td>\n",
       "    </tr>\n",
       "  </tbody>\n",
       "</table>\n",
       "</div>"
      ],
      "text/plain": [
       "  prompt                                           response  originality  \\\n",
       "0   rope           Weave a hammock for backyard relaxation.          1.3   \n",
       "1   rope          Create a vertical garden by hanging pots.          3.3   \n",
       "2   rope                  Make a sturdy leash for your pet.          1.3   \n",
       "3   rope  Design a unique piece of jewelry, like a brace...          2.0   \n",
       "4   rope                      Craft a rustic picture frame.          2.7   \n",
       "\n",
       "   elaboration  \n",
       "0          6.0  \n",
       "1          7.0  \n",
       "2          7.0  \n",
       "3          6.0  \n",
       "4          5.0  "
      ]
     },
     "execution_count": 108,
     "metadata": {},
     "output_type": "execute_result"
    }
   ],
   "source": [
    "#%%capture\n",
    "for i in tqdm(range(len(df))):\n",
    "    eval_ocsai = call_api_ocsai(df.loc[i, 'prompt'], df.loc[i, 'response'])['scores'][0]\n",
    "    df.loc[i, 'originality'] = eval_ocsai['originality']\n",
    "    df.loc[i, 'elaboration'] = eval_ocsai['elaboration']\n",
    "df.head()"
   ]
  },
  {
   "cell_type": "code",
   "execution_count": 109,
   "metadata": {},
   "outputs": [
    {
     "name": "stdout",
     "output_type": "stream",
     "text": [
      "Saved successfully\n"
     ]
    }
   ],
   "source": [
    "# check if there are any NaNs\n",
    "if df.isnull().values.any():\n",
    "    print(\"There are NaNs in the DataFrame\")\n",
    "    N_rows_deleted = len(df[df.isnull().any(axis=1)])\n",
    "    \n",
    "    # remove lines with NaNs\n",
    "    df = df.dropna().reset_index(drop=True)\n",
    "    df.to_csv(path_folder_to_save + f\"/{llm_name}_aut_{object_name}.csv\", index=False)\n",
    "    print(f\"Saved successfully by deleting {N_rows_deleted} row(s) with NaNs\")\n",
    "else:\n",
    "    df.to_csv(path_folder_to_save + f\"/{llm_name}_aut_{object_name}.csv\", index=False)\n",
    "    print(\"Saved successfully\")"
   ]
  },
  {
   "cell_type": "markdown",
   "metadata": {},
   "source": [
    "### Combine different objects together"
   ]
  },
  {
   "cell_type": "code",
   "execution_count": 110,
   "metadata": {},
   "outputs": [
    {
     "name": "stdout",
     "output_type": "stream",
     "text": [
      "Length of the merged dataset: 391\n",
      "Object: prompt\n",
      "knife    100\n",
      "rope     100\n",
      "box       97\n",
      "brick     94\n",
      "Name: count, dtype: int64\n"
     ]
    },
    {
     "data": {
      "text/html": [
       "<div>\n",
       "<style scoped>\n",
       "    .dataframe tbody tr th:only-of-type {\n",
       "        vertical-align: middle;\n",
       "    }\n",
       "\n",
       "    .dataframe tbody tr th {\n",
       "        vertical-align: top;\n",
       "    }\n",
       "\n",
       "    .dataframe thead th {\n",
       "        text-align: right;\n",
       "    }\n",
       "</style>\n",
       "<table border=\"1\" class=\"dataframe\">\n",
       "  <thead>\n",
       "    <tr style=\"text-align: right;\">\n",
       "      <th></th>\n",
       "      <th>prompt</th>\n",
       "      <th>response</th>\n",
       "      <th>originality</th>\n",
       "      <th>elaboration</th>\n",
       "    </tr>\n",
       "  </thead>\n",
       "  <tbody>\n",
       "    <tr>\n",
       "      <th>0</th>\n",
       "      <td>brick</td>\n",
       "      <td>Doorstop to keep doors from closing</td>\n",
       "      <td>1.0</td>\n",
       "      <td>6.0</td>\n",
       "    </tr>\n",
       "    <tr>\n",
       "      <th>1</th>\n",
       "      <td>brick</td>\n",
       "      <td>Paperweight to hold down papers or documents</td>\n",
       "      <td>1.0</td>\n",
       "      <td>7.0</td>\n",
       "    </tr>\n",
       "    <tr>\n",
       "      <th>2</th>\n",
       "      <td>brick</td>\n",
       "      <td>Outdoor step for a small elevation adjustment</td>\n",
       "      <td>1.0</td>\n",
       "      <td>7.0</td>\n",
       "    </tr>\n",
       "    <tr>\n",
       "      <th>3</th>\n",
       "      <td>brick</td>\n",
       "      <td>Grill press to ensure even cooking of meats or...</td>\n",
       "      <td>3.0</td>\n",
       "      <td>10.0</td>\n",
       "    </tr>\n",
       "    <tr>\n",
       "      <th>4</th>\n",
       "      <td>brick</td>\n",
       "      <td>Plant stand to elevate a small planter for bet...</td>\n",
       "      <td>2.0</td>\n",
       "      <td>11.0</td>\n",
       "    </tr>\n",
       "  </tbody>\n",
       "</table>\n",
       "</div>"
      ],
      "text/plain": [
       "  prompt                                           response  originality  \\\n",
       "0  brick              Doorstop to keep doors from closing            1.0   \n",
       "1  brick     Paperweight to hold down papers or documents            1.0   \n",
       "2  brick    Outdoor step for a small elevation adjustment            1.0   \n",
       "3  brick  Grill press to ensure even cooking of meats or...          3.0   \n",
       "4  brick  Plant stand to elevate a small planter for bet...          2.0   \n",
       "\n",
       "   elaboration  \n",
       "0          6.0  \n",
       "1          7.0  \n",
       "2          7.0  \n",
       "3         10.0  \n",
       "4         11.0  "
      ]
     },
     "execution_count": 110,
     "metadata": {},
     "output_type": "execute_result"
    }
   ],
   "source": [
    "df_brick = pd.read_csv(path_folder_to_save + f\"/{llm_name}_aut_brick.csv\")\n",
    "df_box   = pd.read_csv(path_folder_to_save + f\"/{llm_name}_aut_box.csv\")\n",
    "df_knife = pd.read_csv(path_folder_to_save + f\"/{llm_name}_aut_knife.csv\")\n",
    "df_rope  = pd.read_csv(path_folder_to_save + f\"/{llm_name}_aut_rope.csv\")\n",
    "\n",
    "# merge the datasets for all objects\n",
    "df_merged = pd.concat([df_brick, df_box, df_knife, df_rope])\n",
    "print(f\"Length of the merged dataset: {len(df_merged)}\")\n",
    "print(f\"Object: {df_merged['prompt'].value_counts()}\")\n",
    "\n",
    "# save dataset: change name\n",
    "df_merged.to_csv(path_folder_to_save + f\"/{llm_name}_merged_{len(df_merged)}.csv\", index=False) \n",
    "\n",
    "df_merged.head()"
   ]
  },
  {
   "cell_type": "markdown",
   "metadata": {},
   "source": [
    "## Generate and evaluate for all objects at once"
   ]
  },
  {
   "cell_type": "code",
   "execution_count": 135,
   "metadata": {},
   "outputs": [
    {
     "name": "stdout",
     "output_type": "stream",
     "text": [
      "Start generating alternative uses for the object:  brick\n",
      "System fingerprint: None\n",
      "Prompt tokens: 86\n",
      "Completion tokens: 1488\n",
      "Estimated price: $0.0455\n"
     ]
    },
    {
     "name": "stderr",
     "output_type": "stream",
     "text": [
      "100%|██████████| 98/98 [03:19<00:00,  2.04s/it]\n"
     ]
    },
    {
     "name": "stdout",
     "output_type": "stream",
     "text": [
      "Saved successfully\n",
      "Start generating alternative uses for the object:  box\n",
      "System fingerprint: None\n",
      "Prompt tokens: 86\n",
      "Completion tokens: 1127\n",
      "Estimated price: $0.03467\n"
     ]
    },
    {
     "name": "stderr",
     "output_type": "stream",
     "text": [
      "100%|██████████| 98/98 [03:18<00:00,  2.03s/it]\n"
     ]
    },
    {
     "name": "stdout",
     "output_type": "stream",
     "text": [
      "Saved successfully\n",
      "Start generating alternative uses for the object:  knife\n",
      "System fingerprint: None\n",
      "Prompt tokens: 86\n",
      "Completion tokens: 1302\n",
      "Estimated price: $0.039920000000000004\n"
     ]
    },
    {
     "name": "stderr",
     "output_type": "stream",
     "text": [
      "100%|██████████| 98/98 [03:16<00:00,  2.01s/it]\n"
     ]
    },
    {
     "name": "stdout",
     "output_type": "stream",
     "text": [
      "Saved successfully\n",
      "Start generating alternative uses for the object:  rope\n",
      "System fingerprint: None\n",
      "Prompt tokens: 87\n",
      "Completion tokens: 1196\n",
      "Estimated price: $0.036750000000000005\n"
     ]
    },
    {
     "name": "stderr",
     "output_type": "stream",
     "text": [
      "100%|██████████| 99/99 [03:20<00:00,  2.02s/it]"
     ]
    },
    {
     "name": "stdout",
     "output_type": "stream",
     "text": [
      "Saved successfully\n"
     ]
    },
    {
     "name": "stderr",
     "output_type": "stream",
     "text": [
      "\n"
     ]
    }
   ],
   "source": [
    "#%%capture # delete the output because OCSAI API calls are outputting warnings\n",
    "\n",
    "### PARAMETERS ###\n",
    "path_folder_to_save = \"./data_to_process/prompt_6\"\n",
    "#llm = \"gpt-3.5-turbo-0125\"\n",
    "#llm_name = \"gpt35\"\n",
    "llm = \"gpt-4-0125-preview\"\n",
    "llm_name = \"gpt4\"\n",
    "Nb_alternative_uses = 100\n",
    "##################\n",
    "\n",
    "for i in range(4):\n",
    "    print(\"Start generating alternative uses for the object: \", objects[i])\n",
    "    object_name = objects[i]\n",
    "\n",
    "    df = pipeline_object(object_name, llm, llm_name, Nb_alternative_uses, path_folder_to_save)\n",
    "\n",
    "    for i in tqdm(range(len(df))):\n",
    "        eval_ocsai = call_api_ocsai(df.loc[i, 'prompt'], df.loc[i, 'response'])['scores'][0]\n",
    "        df.loc[i, 'originality'] = eval_ocsai['originality']\n",
    "        df.loc[i, 'elaboration'] = eval_ocsai['elaboration']\n",
    "        \n",
    "    # check if there are any NaNs\n",
    "    if df.isnull().values.any():\n",
    "        print(\"There are NaNs in the DataFrame\")\n",
    "    else:\n",
    "        df.to_csv(path_folder_to_save + f\"/{llm_name}_aut_{object_name}.csv\", index=False)\n",
    "        print(\"Saved successfully\")\n",
    "    \n",
    "df_brick = pd.read_csv(path_folder_to_save + f\"/{llm_name}_aut_brick.csv\")\n",
    "df_box   = pd.read_csv(path_folder_to_save + f\"/{llm_name}_aut_box.csv\")\n",
    "df_knife = pd.read_csv(path_folder_to_save + f\"/{llm_name}_aut_knife.csv\")\n",
    "df_rope  = pd.read_csv(path_folder_to_save + f\"/{llm_name}_aut_rope.csv\")\n",
    "\n",
    "# merge the datasets for all objects\n",
    "df_merged = pd.concat([df_brick, df_box, df_knife, df_rope])\n",
    "\n",
    "# save dataset\n",
    "df_merged.to_csv(path_folder_to_save + f\"/{llm_name}_merged_{len(df_merged)}.csv\", index=False) "
   ]
  },
  {
   "cell_type": "code",
   "execution_count": 136,
   "metadata": {},
   "outputs": [
    {
     "name": "stdout",
     "output_type": "stream",
     "text": [
      "Length of the merged dataset: 393\n",
      "Object: prompt\n",
      "rope     99\n",
      "brick    98\n",
      "box      98\n",
      "knife    98\n",
      "Name: count, dtype: int64\n"
     ]
    },
    {
     "data": {
      "text/html": [
       "<div>\n",
       "<style scoped>\n",
       "    .dataframe tbody tr th:only-of-type {\n",
       "        vertical-align: middle;\n",
       "    }\n",
       "\n",
       "    .dataframe tbody tr th {\n",
       "        vertical-align: top;\n",
       "    }\n",
       "\n",
       "    .dataframe thead th {\n",
       "        text-align: right;\n",
       "    }\n",
       "</style>\n",
       "<table border=\"1\" class=\"dataframe\">\n",
       "  <thead>\n",
       "    <tr style=\"text-align: right;\">\n",
       "      <th></th>\n",
       "      <th>prompt</th>\n",
       "      <th>response</th>\n",
       "      <th>originality</th>\n",
       "      <th>elaboration</th>\n",
       "    </tr>\n",
       "  </thead>\n",
       "  <tbody>\n",
       "    <tr>\n",
       "      <th>0</th>\n",
       "      <td>brick</td>\n",
       "      <td>Stack under furniture legs to raise the height.</td>\n",
       "      <td>1.0</td>\n",
       "      <td>8.0</td>\n",
       "    </tr>\n",
       "    <tr>\n",
       "      <th>1</th>\n",
       "      <td>brick</td>\n",
       "      <td>Create a makeshift bookend on a shelf.</td>\n",
       "      <td>1.0</td>\n",
       "      <td>7.0</td>\n",
       "    </tr>\n",
       "    <tr>\n",
       "      <th>2</th>\n",
       "      <td>brick</td>\n",
       "      <td>Use as a hammer for small nails.</td>\n",
       "      <td>2.0</td>\n",
       "      <td>7.0</td>\n",
       "    </tr>\n",
       "    <tr>\n",
       "      <th>3</th>\n",
       "      <td>brick</td>\n",
       "      <td>Construct a flower bed edge in your garden.</td>\n",
       "      <td>1.0</td>\n",
       "      <td>8.0</td>\n",
       "    </tr>\n",
       "    <tr>\n",
       "      <th>4</th>\n",
       "      <td>brick</td>\n",
       "      <td>Break up into pieces for drainage in plant pots.</td>\n",
       "      <td>2.0</td>\n",
       "      <td>9.0</td>\n",
       "    </tr>\n",
       "  </tbody>\n",
       "</table>\n",
       "</div>"
      ],
      "text/plain": [
       "  prompt                                           response  originality  \\\n",
       "0  brick   Stack under furniture legs to raise the height.           1.0   \n",
       "1  brick            Create a makeshift bookend on a shelf.           1.0   \n",
       "2  brick                  Use as a hammer for small nails.           2.0   \n",
       "3  brick       Construct a flower bed edge in your garden.           1.0   \n",
       "4  brick  Break up into pieces for drainage in plant pots.           2.0   \n",
       "\n",
       "   elaboration  \n",
       "0          8.0  \n",
       "1          7.0  \n",
       "2          7.0  \n",
       "3          8.0  \n",
       "4          9.0  "
      ]
     },
     "execution_count": 136,
     "metadata": {},
     "output_type": "execute_result"
    }
   ],
   "source": [
    "print(f\"Length of the merged dataset: {len(df_merged)}\")\n",
    "print(f\"Object: {df_merged['prompt'].value_counts()}\")\n",
    "df_merged.head()"
   ]
  },
  {
   "cell_type": "code",
   "execution_count": null,
   "metadata": {},
   "outputs": [],
   "source": []
  }
 ],
 "metadata": {
  "kernelspec": {
   "display_name": "ml",
   "language": "python",
   "name": "python3"
  },
  "language_info": {
   "codemirror_mode": {
    "name": "ipython",
    "version": 3
   },
   "file_extension": ".py",
   "mimetype": "text/x-python",
   "name": "python",
   "nbconvert_exporter": "python",
   "pygments_lexer": "ipython3",
   "version": "3.9.18"
  }
 },
 "nbformat": 4,
 "nbformat_minor": 2
}
