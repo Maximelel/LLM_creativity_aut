{
 "cells": [
  {
   "cell_type": "markdown",
   "metadata": {},
   "source": [
    "# Script to prompt LLMs"
   ]
  },
  {
   "cell_type": "code",
   "execution_count": 1,
   "metadata": {},
   "outputs": [],
   "source": [
    "# import packages\n",
    "import requests\n",
    "import json\n",
    "import pandas as pd\n",
    "import os\n",
    "import openai\n",
    "from openai import OpenAI\n",
    "import matplotlib.pyplot as plt\n",
    "import numpy as np\n",
    "import seaborn as sns"
   ]
  },
  {
   "cell_type": "code",
   "execution_count": 2,
   "metadata": {},
   "outputs": [],
   "source": [
    "# If OpenAI used\n",
    "\n",
    "# Get API key from the environment variable\n",
    "api_key = os.environ.get('OPENAI_API_KEY')\n",
    "\n",
    "# Set the API key\n",
    "openai.api_key = api_key"
   ]
  },
  {
   "cell_type": "code",
   "execution_count": 59,
   "metadata": {},
   "outputs": [],
   "source": [
    "# Define function to create a prompt\n",
    "def create_prompt(object_name):\n",
    "    #prompt = f\"Generate alternative uses for the object [{object_name}].\"\n",
    "    prompt = f\"\"\"\n",
    "        You are meant to assist students in group ideation. They are asked to propose alternative\n",
    "        uses for an object and you should propose yours to give them ideas as well as inspire them to \n",
    "        explore other uses. \n",
    "        You are a very creative, open-minded person and can propose creative, out-of-the-box ideas while staying realistic. \n",
    "        Your ideas will be even more appreciated if they are original or useful in real-life or both.\n",
    "        \n",
    "        Generate alternative uses for the object [{object_name}]. \n",
    "        \n",
    "        Provide five alternative uses, each explained in a concise sentence and following this example: \"Sock: You could put it on your hands and pretend to have superpowers\".\n",
    "        \"\"\"\n",
    "        \n",
    "    return prompt\n",
    "\n",
    "\n",
    "# Define function to call the LLM API\n",
    "def call_openai_api(prompt):\n",
    "    client = OpenAI()\n",
    "    response = client.chat.completions.create(\n",
    "        model=\"gpt-3.5-turbo-0125\",\n",
    "        messages=[\n",
    "            {\"role\": \"system\", \"content\": \"You are a helpful assistant.\"},\n",
    "            {\"role\": \"user\", \"content\": prompt}\n",
    "            ]#,\n",
    "        #seed=seed,\n",
    "        #max_tokens=200,\n",
    "        #temperature=temperature,\n",
    "        )\n",
    "    return response\n",
    "\n",
    "\n",
    "# Define function to store the result in a JSON file\n",
    "def store_result_json(object_name, alternative_uses):\n",
    "    result = [{\"object_name\": object_name, \"alternative_uses\": use} for use in  alternative_uses.split(\"\\n\") if use.strip()]\n",
    "    with open(f\"./data_ocsai/input_ocsai/aut_{object_name}.json\", \"w\") as json_file:\n",
    "        json.dump(result, json_file)\n",
    "\n",
    "\n",
    "# Define function to create a CSV file and Pandas DataFrame\n",
    "def create_csv_and_dataframe(object_name):\n",
    "    with open(f\"./data_ocsai/input_ocsai/aut_{object_name}.json\", \"r\") as json_file:\n",
    "        data = json.load(json_file)\n",
    "    df = pd.DataFrame(data)\n",
    "    \n",
    "    # remove prefix\n",
    "    df['alternative_uses'] = df['alternative_uses'].str.split(f': ').str[1]\n",
    "    #df['alternative_uses'] = df['alternative_uses'].str.split(f'{object_name}: ').str[1]\n",
    "    \n",
    "    #rename the columns to fit ocsai format\n",
    "    df = df.rename(columns={\"object_name\": \"prompt\", \"alternative_uses\": \"response\"})\n",
    "    \n",
    "    # save for evaluation\n",
    "    df.to_csv(f\"./data_ocsai/input_ocsai/aut_{object_name}.csv\", index=False)\n",
    "    \n",
    "    return df\n",
    "\n",
    "# Define function to estimate the price of an OpenAI API request\n",
    "def estimate_price(prompt_tokens, response_tokens):\n",
    "    # Define your pricing model (e.g., price per token)\n",
    "    price_per_input_token = \t0.50 / 1e6\n",
    "    price_per_output_token = 1.5 / 1e6\n",
    "    \n",
    "    # Estimate the price based on the total number of tokens\n",
    "    price = (prompt_tokens * price_per_input_token) + (response_tokens * price_per_output_token)\n",
    "    return price"
   ]
  },
  {
   "cell_type": "markdown",
   "metadata": {},
   "source": [
    "### Main function"
   ]
  },
  {
   "cell_type": "code",
   "execution_count": 31,
   "metadata": {},
   "outputs": [
    {
     "name": "stdout",
     "output_type": "stream",
     "text": [
      "\n",
      "        You are meant to assist students in group ideation. They are asked to propose alternative\n",
      "        uses for an object and you should propose yours to give them ideas as well as inspire them to \n",
      "        explore other uses. \n",
      "        You are a very creative, open-minded person and can propose creative, out-of-the-box ideas while staying realistic. \n",
      "        Your ideas will be even more appreciated if they are original or useful in real-life or both.\n",
      "        \n",
      "        Generate alternative uses for the object [brick]. \n",
      "        \n",
      "        Provide five alternative uses, each explained in a concise sentence and following this example: \"Sock: You could put it on your hands and pretend to have superpowers\".\n",
      "        \n"
     ]
    }
   ],
   "source": [
    "object_name = \"brick\"  # Example object for the Alternative Uses Test\n",
    "prompt = create_prompt(object_name)\n",
    "\n",
    "print(prompt)"
   ]
  },
  {
   "cell_type": "code",
   "execution_count": 32,
   "metadata": {},
   "outputs": [
    {
     "name": "stdout",
     "output_type": "stream",
     "text": [
      "1. Brick: Use it as a rustic doorstop to add a touch of industrial charm to your home decor.\n",
      "   \n",
      "2. Brick: Transform it into a unique bookend by stacking a few bricks together to stylishly display your favorite reads.\n",
      "\n",
      "3. Brick: Create a custom DIY garden path by laying bricks in a pattern to add an aesthetic touch to your outdoor space.\n",
      "\n",
      "4. Brick: Turn it into a makeshift weight for outdoor workouts by securely wrapping it in a cloth for grip and incorporating it into your fitness routine.\n",
      "\n",
      "5. Brick: Use it as a makeshift pedestal to elevate a potted plant, adding height and visual interest to your indoor garden arrangement.\n"
     ]
    }
   ],
   "source": [
    "response = call_openai_api(prompt)\n",
    "response_content = response.choices[0].message.content\n",
    "\n",
    "print(response_content)"
   ]
  },
  {
   "cell_type": "code",
   "execution_count": 33,
   "metadata": {},
   "outputs": [
    {
     "name": "stdout",
     "output_type": "stream",
     "text": [
      "System fingerprint: fp_4f2ebda25a\n",
      "Prompt tokens: 156\n",
      "Completion tokens: 133\n",
      "Estimated price: $0.00027749999999999997\n"
     ]
    }
   ],
   "source": [
    "system_fingerprint = response.system_fingerprint\n",
    "prompt_tokens = response.usage.prompt_tokens\n",
    "completion_tokens = response.usage.total_tokens - response.usage.prompt_tokens\n",
    "\n",
    "print(f\"System fingerprint: {system_fingerprint}\")\n",
    "print(f\"Prompt tokens: {prompt_tokens}\")\n",
    "print(f\"Completion tokens: {completion_tokens}\")\n",
    "\n",
    "price = estimate_price(prompt_tokens, completion_tokens)\n",
    "print(f\"Estimated price: ${price}\")"
   ]
  },
  {
   "cell_type": "code",
   "execution_count": 60,
   "metadata": {},
   "outputs": [
    {
     "data": {
      "text/html": [
       "<div>\n",
       "<style scoped>\n",
       "    .dataframe tbody tr th:only-of-type {\n",
       "        vertical-align: middle;\n",
       "    }\n",
       "\n",
       "    .dataframe tbody tr th {\n",
       "        vertical-align: top;\n",
       "    }\n",
       "\n",
       "    .dataframe thead th {\n",
       "        text-align: right;\n",
       "    }\n",
       "</style>\n",
       "<table border=\"1\" class=\"dataframe\">\n",
       "  <thead>\n",
       "    <tr style=\"text-align: right;\">\n",
       "      <th></th>\n",
       "      <th>prompt</th>\n",
       "      <th>response</th>\n",
       "    </tr>\n",
       "  </thead>\n",
       "  <tbody>\n",
       "    <tr>\n",
       "      <th>0</th>\n",
       "      <td>brick</td>\n",
       "      <td>Use it as a rustic doorstop to add a touch of ...</td>\n",
       "    </tr>\n",
       "    <tr>\n",
       "      <th>1</th>\n",
       "      <td>brick</td>\n",
       "      <td>Transform it into a unique bookend by stacking...</td>\n",
       "    </tr>\n",
       "    <tr>\n",
       "      <th>2</th>\n",
       "      <td>brick</td>\n",
       "      <td>Create a custom DIY garden path by laying bric...</td>\n",
       "    </tr>\n",
       "    <tr>\n",
       "      <th>3</th>\n",
       "      <td>brick</td>\n",
       "      <td>Turn it into a makeshift weight for outdoor wo...</td>\n",
       "    </tr>\n",
       "    <tr>\n",
       "      <th>4</th>\n",
       "      <td>brick</td>\n",
       "      <td>Use it as a makeshift pedestal to elevate a po...</td>\n",
       "    </tr>\n",
       "  </tbody>\n",
       "</table>\n",
       "</div>"
      ],
      "text/plain": [
       "  prompt                                           response\n",
       "0  brick  Use it as a rustic doorstop to add a touch of ...\n",
       "1  brick  Transform it into a unique bookend by stacking...\n",
       "2  brick  Create a custom DIY garden path by laying bric...\n",
       "3  brick  Turn it into a makeshift weight for outdoor wo...\n",
       "4  brick  Use it as a makeshift pedestal to elevate a po..."
      ]
     },
     "execution_count": 60,
     "metadata": {},
     "output_type": "execute_result"
    }
   ],
   "source": [
    "store_result_json(object_name, response_content)\n",
    "df = create_csv_and_dataframe(object_name)\n",
    "df.head()"
   ]
  },
  {
   "cell_type": "markdown",
   "metadata": {},
   "source": [
    "## Evaluate the creativity\n",
    "\n",
    "### Manually\n",
    "\n",
    "By uploading csv file here: https://openscoring.du.edu/uploadllm"
   ]
  },
  {
   "cell_type": "code",
   "execution_count": 61,
   "metadata": {},
   "outputs": [
    {
     "data": {
      "text/html": [
       "<div>\n",
       "<style scoped>\n",
       "    .dataframe tbody tr th:only-of-type {\n",
       "        vertical-align: middle;\n",
       "    }\n",
       "\n",
       "    .dataframe tbody tr th {\n",
       "        vertical-align: top;\n",
       "    }\n",
       "\n",
       "    .dataframe thead th {\n",
       "        text-align: right;\n",
       "    }\n",
       "</style>\n",
       "<table border=\"1\" class=\"dataframe\">\n",
       "  <thead>\n",
       "    <tr style=\"text-align: right;\">\n",
       "      <th></th>\n",
       "      <th>prompt</th>\n",
       "      <th>response</th>\n",
       "    </tr>\n",
       "  </thead>\n",
       "  <tbody>\n",
       "    <tr>\n",
       "      <th>0</th>\n",
       "      <td>brick</td>\n",
       "      <td>Use it as a rustic doorstop to add a touch of ...</td>\n",
       "    </tr>\n",
       "    <tr>\n",
       "      <th>1</th>\n",
       "      <td>brick</td>\n",
       "      <td>Transform it into a unique bookend by stacking...</td>\n",
       "    </tr>\n",
       "    <tr>\n",
       "      <th>2</th>\n",
       "      <td>brick</td>\n",
       "      <td>Create a custom DIY garden path by laying bric...</td>\n",
       "    </tr>\n",
       "    <tr>\n",
       "      <th>3</th>\n",
       "      <td>brick</td>\n",
       "      <td>Turn it into a makeshift weight for outdoor wo...</td>\n",
       "    </tr>\n",
       "    <tr>\n",
       "      <th>4</th>\n",
       "      <td>brick</td>\n",
       "      <td>Use it as a makeshift pedestal to elevate a po...</td>\n",
       "    </tr>\n",
       "  </tbody>\n",
       "</table>\n",
       "</div>"
      ],
      "text/plain": [
       "  prompt                                           response\n",
       "0  brick  Use it as a rustic doorstop to add a touch of ...\n",
       "1  brick  Transform it into a unique bookend by stacking...\n",
       "2  brick  Create a custom DIY garden path by laying bric...\n",
       "3  brick  Turn it into a makeshift weight for outdoor wo...\n",
       "4  brick  Use it as a makeshift pedestal to elevate a po..."
      ]
     },
     "execution_count": 61,
     "metadata": {},
     "output_type": "execute_result"
    }
   ],
   "source": [
    "brick_llm = pd.read_csv('./data_ocsai/input_ocsai/aut_brick.csv')\n",
    "brick_llm.head()"
   ]
  },
  {
   "cell_type": "code",
   "execution_count": 66,
   "metadata": {},
   "outputs": [
    {
     "data": {
      "text/html": [
       "<div>\n",
       "<style scoped>\n",
       "    .dataframe tbody tr th:only-of-type {\n",
       "        vertical-align: middle;\n",
       "    }\n",
       "\n",
       "    .dataframe tbody tr th {\n",
       "        vertical-align: top;\n",
       "    }\n",
       "\n",
       "    .dataframe thead th {\n",
       "        text-align: right;\n",
       "    }\n",
       "</style>\n",
       "<table border=\"1\" class=\"dataframe\">\n",
       "  <thead>\n",
       "    <tr style=\"text-align: right;\">\n",
       "      <th></th>\n",
       "      <th>prompt</th>\n",
       "      <th>response</th>\n",
       "      <th>originality</th>\n",
       "      <th>elaboration</th>\n",
       "    </tr>\n",
       "  </thead>\n",
       "  <tbody>\n",
       "    <tr>\n",
       "      <th>0</th>\n",
       "      <td>brick</td>\n",
       "      <td>Use it as a rustic doorstop to add a touch of ...</td>\n",
       "      <td>1.8</td>\n",
       "      <td>NaN</td>\n",
       "    </tr>\n",
       "    <tr>\n",
       "      <th>1</th>\n",
       "      <td>brick</td>\n",
       "      <td>Transform it into a unique bookend by stacking...</td>\n",
       "      <td>2.0</td>\n",
       "      <td>NaN</td>\n",
       "    </tr>\n",
       "    <tr>\n",
       "      <th>2</th>\n",
       "      <td>brick</td>\n",
       "      <td>Create a custom DIY garden path by laying bric...</td>\n",
       "      <td>1.0</td>\n",
       "      <td>NaN</td>\n",
       "    </tr>\n",
       "    <tr>\n",
       "      <th>3</th>\n",
       "      <td>brick</td>\n",
       "      <td>Turn it into a makeshift weight for outdoor wo...</td>\n",
       "      <td>2.0</td>\n",
       "      <td>NaN</td>\n",
       "    </tr>\n",
       "    <tr>\n",
       "      <th>4</th>\n",
       "      <td>brick</td>\n",
       "      <td>Use it as a makeshift pedestal to elevate a po...</td>\n",
       "      <td>3.0</td>\n",
       "      <td>NaN</td>\n",
       "    </tr>\n",
       "  </tbody>\n",
       "</table>\n",
       "</div>"
      ],
      "text/plain": [
       "  prompt                                           response  originality  \\\n",
       "0  brick  Use it as a rustic doorstop to add a touch of ...          1.8   \n",
       "1  brick  Transform it into a unique bookend by stacking...          2.0   \n",
       "2  brick  Create a custom DIY garden path by laying bric...          1.0   \n",
       "3  brick  Turn it into a makeshift weight for outdoor wo...          2.0   \n",
       "4  brick  Use it as a makeshift pedestal to elevate a po...          3.0   \n",
       "\n",
       "   elaboration  \n",
       "0          NaN  \n",
       "1          NaN  \n",
       "2          NaN  \n",
       "3          NaN  \n",
       "4          NaN  "
      ]
     },
     "execution_count": 66,
     "metadata": {},
     "output_type": "execute_result"
    }
   ],
   "source": [
    "ocsai_eval = pd.read_csv('./data_ocsai/output_ocsai/Data.csv')\n",
    "ocsai_eval.head()"
   ]
  },
  {
   "cell_type": "markdown",
   "metadata": {},
   "source": [
    "#### Comparison to ground truth"
   ]
  },
  {
   "cell_type": "code",
   "execution_count": 67,
   "metadata": {},
   "outputs": [
    {
     "data": {
      "text/html": [
       "<div>\n",
       "<style scoped>\n",
       "    .dataframe tbody tr th:only-of-type {\n",
       "        vertical-align: middle;\n",
       "    }\n",
       "\n",
       "    .dataframe tbody tr th {\n",
       "        vertical-align: top;\n",
       "    }\n",
       "\n",
       "    .dataframe thead th {\n",
       "        text-align: right;\n",
       "    }\n",
       "</style>\n",
       "<table border=\"1\" class=\"dataframe\">\n",
       "  <thead>\n",
       "    <tr style=\"text-align: right;\">\n",
       "      <th></th>\n",
       "      <th>Unnamed: 0</th>\n",
       "      <th>type</th>\n",
       "      <th>src</th>\n",
       "      <th>question</th>\n",
       "      <th>prompt</th>\n",
       "      <th>response</th>\n",
       "      <th>id</th>\n",
       "      <th>target</th>\n",
       "      <th>participant</th>\n",
       "      <th>response_num</th>\n",
       "      <th>index</th>\n",
       "      <th>count</th>\n",
       "    </tr>\n",
       "  </thead>\n",
       "  <tbody>\n",
       "    <tr>\n",
       "      <th>0</th>\n",
       "      <td>0</td>\n",
       "      <td>uses</td>\n",
       "      <td>dod20</td>\n",
       "      <td>What is a surprising use for PANTS?</td>\n",
       "      <td>pants</td>\n",
       "      <td>fashion</td>\n",
       "      <td>dod20_pants-160974</td>\n",
       "      <td>1.0</td>\n",
       "      <td>dod2037</td>\n",
       "      <td>6.0</td>\n",
       "      <td>14274.0</td>\n",
       "      <td>2.0</td>\n",
       "    </tr>\n",
       "    <tr>\n",
       "      <th>1</th>\n",
       "      <td>1</td>\n",
       "      <td>consequences</td>\n",
       "      <td>setal08</td>\n",
       "      <td>What would be a surprising consequence if EVER...</td>\n",
       "      <td>shrank</td>\n",
       "      <td>couldn't harvest food</td>\n",
       "      <td>setal08_6.0-5d7c8c</td>\n",
       "      <td>1.3</td>\n",
       "      <td>setal08150</td>\n",
       "      <td>7.0</td>\n",
       "      <td>NaN</td>\n",
       "      <td>NaN</td>\n",
       "    </tr>\n",
       "  </tbody>\n",
       "</table>\n",
       "</div>"
      ],
      "text/plain": [
       "   Unnamed: 0          type      src  \\\n",
       "0           0          uses    dod20   \n",
       "1           1  consequences  setal08   \n",
       "\n",
       "                                            question  prompt  \\\n",
       "0                What is a surprising use for PANTS?   pants   \n",
       "1  What would be a surprising consequence if EVER...  shrank   \n",
       "\n",
       "                response                  id  target participant  \\\n",
       "0                fashion  dod20_pants-160974     1.0     dod2037   \n",
       "1  couldn't harvest food  setal08_6.0-5d7c8c     1.3  setal08150   \n",
       "\n",
       "   response_num    index  count  \n",
       "0           6.0  14274.0    2.0  \n",
       "1           7.0      NaN    NaN  "
      ]
     },
     "execution_count": 67,
     "metadata": {},
     "output_type": "execute_result"
    }
   ],
   "source": [
    "ground_truth = pd.read_csv('./../data/cleaned_all_data.csv')\n",
    "ground_truth.head(2)"
   ]
  },
  {
   "cell_type": "code",
   "execution_count": 68,
   "metadata": {},
   "outputs": [],
   "source": [
    "# plot mean from outputs LLMs in the histogram of ground truth\n",
    "def plot_mean_histogram(ocsai_eval, ground_truth, object_name):\n",
    "    plt.figure(figsize=(10, 6))\n",
    "    \n",
    "    object_ground_truth = ground_truth[ground_truth['prompt'] == object_name]\n",
    "    \n",
    "    sns.histplot(object_ground_truth['target'], kde=True, label='Humans')\n",
    "    plt.vlines(ocsai_eval['originality'].mean(), 0, plt.gca().get_ylim()[1], colors='red', linestyles='dashed', label='LLM')\n",
    "    plt.title(f'Human vs LLM creativity on AUT for {object_name}')\n",
    "    #plt.xlabel('Mean')\n",
    "    #plt.ylabel('Frequency')\n",
    "    plt.legend()\n",
    "    plt.show()"
   ]
  },
  {
   "cell_type": "code",
   "execution_count": 69,
   "metadata": {},
   "outputs": [
    {
     "data": {
      "image/png": "[encoded data removed]",
      "text/plain": [
       "<Figure size 1000x600 with 1 Axes>"
      ]
     },
     "metadata": {},
     "output_type": "display_data"
    }
   ],
   "source": [
    "plot_mean_histogram(ocsai_eval, ground_truth, 'brick')"
   ]
  },
  {
   "cell_type": "code",
   "execution_count": null,
   "metadata": {},
   "outputs": [],
   "source": []
  },
  {
   "cell_type": "code",
   "execution_count": null,
   "metadata": {},
   "outputs": [],
   "source": []
  },
  {
   "cell_type": "code",
   "execution_count": null,
   "metadata": {},
   "outputs": [],
   "source": []
  },
  {
   "cell_type": "markdown",
   "metadata": {},
   "source": [
    "### With the API to automate process"
   ]
  },
  {
   "cell_type": "code",
   "execution_count": 35,
   "metadata": {},
   "outputs": [
    {
     "ename": "TypeError",
     "evalue": "request() got an unexpected keyword argument 'prompt'",
     "output_type": "error",
     "traceback": [
      "\u001b[1;31m---------------------------------------------------------------------------\u001b[0m",
      "\u001b[1;31mTypeError\u001b[0m                                 Traceback (most recent call last)",
      "Cell \u001b[1;32mIn[35], line 19\u001b[0m\n\u001b[0;32m     14\u001b[0m payload \u001b[38;5;241m=\u001b[39m {\n\u001b[0;32m     15\u001b[0m     \u001b[38;5;124m\"\u001b[39m\u001b[38;5;124msentences\u001b[39m\u001b[38;5;124m\"\u001b[39m: sentences\n\u001b[0;32m     16\u001b[0m }\n\u001b[0;32m     18\u001b[0m \u001b[38;5;66;03m# Send POST request to the API\u001b[39;00m\n\u001b[1;32m---> 19\u001b[0m response \u001b[38;5;241m=\u001b[39m \u001b[43mrequests\u001b[49m\u001b[38;5;241;43m.\u001b[39;49m\u001b[43mget\u001b[49m\u001b[43m(\u001b[49m\u001b[43mapi_url\u001b[49m\u001b[43m,\u001b[49m\u001b[43m \u001b[49m\u001b[43mprompt\u001b[49m\u001b[43m \u001b[49m\u001b[38;5;241;43m=\u001b[39;49m\u001b[43m \u001b[49m\u001b[38;5;124;43m\"\u001b[39;49m\u001b[38;5;124;43mbrick\u001b[39;49m\u001b[38;5;124;43m\"\u001b[39;49m\u001b[43m,\u001b[49m\u001b[43m \u001b[49m\u001b[38;5;28;43minput\u001b[39;49m\u001b[43m \u001b[49m\u001b[38;5;241;43m=\u001b[39;49m\u001b[43m \u001b[49m\u001b[38;5;124;43m'\u001b[39;49m\u001b[38;5;124;43m./aut_brick.csv\u001b[39;49m\u001b[38;5;124;43m'\u001b[39;49m\u001b[43m,\u001b[49m\u001b[43m \u001b[49m\u001b[43minput_type\u001b[49m\u001b[43m \u001b[49m\u001b[38;5;241;43m=\u001b[39;49m\u001b[43m \u001b[49m\u001b[38;5;124;43m'\u001b[39;49m\u001b[38;5;124;43mcsv\u001b[39;49m\u001b[38;5;124;43m'\u001b[39;49m\u001b[43m)\u001b[49m\n\u001b[0;32m     21\u001b[0m \u001b[38;5;66;03m# Check if request was successful\u001b[39;00m\n\u001b[0;32m     22\u001b[0m \u001b[38;5;28;01mif\u001b[39;00m response\u001b[38;5;241m.\u001b[39mstatus_code \u001b[38;5;241m==\u001b[39m \u001b[38;5;241m200\u001b[39m:\n\u001b[0;32m     23\u001b[0m     \u001b[38;5;66;03m# Get the scores from the response\u001b[39;00m\n",
      "File \u001b[1;32mc:\\Users\\Maxime\\anaconda3\\envs\\ada\\lib\\site-packages\\requests\\api.py:73\u001b[0m, in \u001b[0;36mget\u001b[1;34m(url, params, **kwargs)\u001b[0m\n\u001b[0;32m     62\u001b[0m \u001b[38;5;28;01mdef\u001b[39;00m \u001b[38;5;21mget\u001b[39m(url, params\u001b[38;5;241m=\u001b[39m\u001b[38;5;28;01mNone\u001b[39;00m, \u001b[38;5;241m*\u001b[39m\u001b[38;5;241m*\u001b[39mkwargs):\n\u001b[0;32m     63\u001b[0m \u001b[38;5;250m    \u001b[39m\u001b[38;5;124mr\u001b[39m\u001b[38;5;124;03m\"\"\"Sends a GET request.\u001b[39;00m\n\u001b[0;32m     64\u001b[0m \n\u001b[0;32m     65\u001b[0m \u001b[38;5;124;03m    :param url: URL for the new :class:`Request` object.\u001b[39;00m\n\u001b[1;32m   (...)\u001b[0m\n\u001b[0;32m     70\u001b[0m \u001b[38;5;124;03m    :rtype: requests.Response\u001b[39;00m\n\u001b[0;32m     71\u001b[0m \u001b[38;5;124;03m    \"\"\"\u001b[39;00m\n\u001b[1;32m---> 73\u001b[0m     \u001b[38;5;28;01mreturn\u001b[39;00m request(\u001b[38;5;124m\"\u001b[39m\u001b[38;5;124mget\u001b[39m\u001b[38;5;124m\"\u001b[39m, url, params\u001b[38;5;241m=\u001b[39mparams, \u001b[38;5;241m*\u001b[39m\u001b[38;5;241m*\u001b[39mkwargs)\n",
      "File \u001b[1;32mc:\\Users\\Maxime\\anaconda3\\envs\\ada\\lib\\site-packages\\requests\\api.py:59\u001b[0m, in \u001b[0;36mrequest\u001b[1;34m(method, url, **kwargs)\u001b[0m\n\u001b[0;32m     55\u001b[0m \u001b[38;5;66;03m# By using the 'with' statement we are sure the session is closed, thus we\u001b[39;00m\n\u001b[0;32m     56\u001b[0m \u001b[38;5;66;03m# avoid leaving sockets open which can trigger a ResourceWarning in some\u001b[39;00m\n\u001b[0;32m     57\u001b[0m \u001b[38;5;66;03m# cases, and look like a memory leak in others.\u001b[39;00m\n\u001b[0;32m     58\u001b[0m \u001b[38;5;28;01mwith\u001b[39;00m sessions\u001b[38;5;241m.\u001b[39mSession() \u001b[38;5;28;01mas\u001b[39;00m session:\n\u001b[1;32m---> 59\u001b[0m     \u001b[38;5;28;01mreturn\u001b[39;00m session\u001b[38;5;241m.\u001b[39mrequest(method\u001b[38;5;241m=\u001b[39mmethod, url\u001b[38;5;241m=\u001b[39murl, \u001b[38;5;241m*\u001b[39m\u001b[38;5;241m*\u001b[39mkwargs)\n",
      "\u001b[1;31mTypeError\u001b[0m: request() got an unexpected keyword argument 'prompt'"
     ]
    }
   ],
   "source": [
    "# test\n",
    "\n",
    "# Define the API endpoint\n",
    "api_url = \"https://openscoring.du.edu/docs\"\n",
    "\n",
    "# Example input sentences\n",
    "sentences = [\n",
    "    \"I use a shoe as a flower pot.\",\n",
    "    \"I use a shoe as a coaster.\",\n",
    "    \"I use a shoe as a musical instrument.\"\n",
    "]\n",
    "\n",
    "# Define the request payload\n",
    "payload = {\n",
    "    \"sentences\": sentences\n",
    "}\n",
    "\n",
    "# Send POST request to the API\n",
    "response = requests.get(api_url, prompt = \"brick\", input = './aut_brick.csv', input_type = 'csv')\n",
    "\n",
    "# Check if request was successful\n",
    "if response.status_code == 200:\n",
    "    # Get the scores from the response\n",
    "    scores = response.json()[\"score\"]\n",
    "    # Print the scores\n",
    "    for sentence, score in zip(sentences, scores):\n",
    "        print(f\"Sentence: {sentence} - Score: {score}\")\n",
    "else:\n",
    "    print(\"Error:\", response.text)\n"
   ]
  },
  {
   "cell_type": "code",
   "execution_count": null,
   "metadata": {},
   "outputs": [],
   "source": []
  }
 ],
 "metadata": {
  "kernelspec": {
   "display_name": "ml",
   "language": "python",
   "name": "python3"
  },
  "language_info": {
   "codemirror_mode": {
    "name": "ipython",
    "version": 3
   },
   "file_extension": ".py",
   "mimetype": "text/x-python",
   "name": "python",
   "nbconvert_exporter": "python",
   "pygments_lexer": "ipython3",
   "version": "3.9.18"
  }
 },
 "nbformat": 4,
 "nbformat_minor": 2
}
