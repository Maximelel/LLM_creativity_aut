{
 "cells": [
  {
   "cell_type": "markdown",
   "metadata": {},
   "source": [
    "# Script to prompt LLMs"
   ]
  },
  {
   "cell_type": "code",
   "execution_count": 1,
   "metadata": {},
   "outputs": [],
   "source": [
    "# import packages\n",
    "import requests\n",
    "import json\n",
    "import pandas as pd\n",
    "import os\n",
    "import openai\n",
    "from openai import OpenAI\n",
    "import matplotlib.pyplot as plt\n",
    "import numpy as np\n",
    "import seaborn as sns"
   ]
  },
  {
   "cell_type": "code",
   "execution_count": 2,
   "metadata": {},
   "outputs": [],
   "source": [
    "# If OpenAI used\n",
    "\n",
    "# Get API key from the environment variable\n",
    "api_key = os.environ.get('OPENAI_API_KEY')\n",
    "\n",
    "# Set the API key\n",
    "openai.api_key = api_key"
   ]
  },
  {
   "cell_type": "code",
   "execution_count": 13,
   "metadata": {},
   "outputs": [],
   "source": [
    "# Define function to create a prompt\n",
    "def create_prompt(object_name):\n",
    "    #prompt = f\"Generate alternative uses for the object [{object_name}].\"\n",
    "    prompt = f\"\"\"\n",
    "        You are meant to assist students in group ideation. They are asked to propose alternative\n",
    "        uses for an object and you should propose yours to give them ideas as well as inspire them to \n",
    "        explore other uses. \n",
    "        You are a very creative, open-minded person and can propose creative, out-of-the-box ideas while staying realistic. \n",
    "        Your ideas will be even more appreciated if they are original or useful in real-life or both.\n",
    "        \n",
    "        Generate alternative uses for the object [{object_name}]. \n",
    "        \n",
    "        Provide five alternative uses, each explained in a concise sentence and following this example: \"Sock: You could put it on your hands and pretend to have superpowers\".\n",
    "        \"\"\"\n",
    "        \n",
    "    return prompt\n",
    "\n",
    "\n",
    "# Define function to call the LLM API\n",
    "def call_openai_api(prompt):\n",
    "    client = OpenAI()\n",
    "    response = client.chat.completions.create(\n",
    "        model=\"gpt-3.5-turbo-0125\",\n",
    "        messages=[\n",
    "            {\"role\": \"system\", \"content\": \"You are a helpful assistant.\"},\n",
    "            {\"role\": \"user\", \"content\": prompt}\n",
    "            ]#,\n",
    "        #seed=seed,\n",
    "        #max_tokens=200,\n",
    "        #temperature=temperature,\n",
    "        )\n",
    "    return response\n",
    "\n",
    "\n",
    "# Define function to store the result in a JSON file\n",
    "def store_result_json(object_name, alternative_uses):\n",
    "    result = [{\"object_name\": object_name, \"alternative_uses\": use} for use in  alternative_uses.split(\"\\n\") if use.strip()]\n",
    "    with open(\"alternative_uses.json\", \"w\") as json_file:\n",
    "        json.dump(result, json_file)\n",
    "\n",
    "\n",
    "# Define function to create a CSV file and Pandas DataFrame\n",
    "def create_csv_and_dataframe(object_name):\n",
    "    with open(\"alternative_uses.json\", \"r\") as json_file:\n",
    "        data = json.load(json_file)\n",
    "    df = pd.DataFrame(data)\n",
    "    df.to_csv(\"alternative_uses.csv\", index=False)\n",
    "    \n",
    "    # remove prefix\n",
    "    df['alternative_uses'] = df['alternative_uses'].str.split(f'{object_name}: ').str[1]\n",
    "    \n",
    "    return df\n",
    "\n",
    "# Define function to estimate the price of an OpenAI API request\n",
    "def estimate_price(prompt_tokens, response_tokens):\n",
    "    # Define your pricing model (e.g., price per token)\n",
    "    price_per_input_token = \t0.50 / 1e6\n",
    "    price_per_output_token = 1.5 / 1e6\n",
    "    \n",
    "    # Estimate the price based on the total number of tokens\n",
    "    price = (prompt_tokens * price_per_input_token) + (response_tokens * price_per_output_token)\n",
    "    return price"
   ]
  },
  {
   "cell_type": "markdown",
   "metadata": {},
   "source": [
    "### Main function"
   ]
  },
  {
   "cell_type": "code",
   "execution_count": 5,
   "metadata": {},
   "outputs": [
    {
     "name": "stdout",
     "output_type": "stream",
     "text": [
      "\n",
      "        You are meant to assist students in group ideation. They are asked to propose alternative\n",
      "        uses for an object and you should propose yours to give them ideas as well as inspire them to \n",
      "        explore other uses. \n",
      "        You are a very creative, open-minded person and can propose creative, out-of-the-box ideas while staying realistic. \n",
      "        Your ideas will be even more appreciated if they are original or useful in real-life or both.\n",
      "        \n",
      "        Generate alternative uses for the object [Chair]. \n",
      "        \n",
      "        Provide five alternative uses, each explained in a concise sentence and following this example: \"Sock: You could put it on your hands and pretend to have superpowers\".\n",
      "        \n"
     ]
    }
   ],
   "source": [
    "object_name = \"Chair\"  # Example object for the Alternative Uses Test\n",
    "prompt = create_prompt(object_name)\n",
    "\n",
    "print(prompt)"
   ]
  },
  {
   "cell_type": "code",
   "execution_count": 6,
   "metadata": {},
   "outputs": [
    {
     "name": "stdout",
     "output_type": "stream",
     "text": [
      "1. Chair: Transform it into a makeshift easel by draping a large canvas or a whiteboard across the backrest, creating a versatile standing surface for art or notes.\n",
      "\n",
      "2. Chair: Repurpose it as a unique pot rack by hanging various pots and pans from the chair's arms and back, adding a touch of whimsy to your kitchen decor while saving space.\n",
      "\n",
      "3. Chair: Use it as a clever plant display by placing different potted plants on the seat and hanging flowering plants from the back, creating a charming indoor garden feature.\n",
      "\n",
      "4. Chair: Convert it into a functional bedside table by positioning a lamp and your nighttime essentials on the seat and stacking books or magazines on the backrest for easy access while relaxing in bed.\n",
      "\n",
      "5. Chair: Reinvent it as a pet's paradise by placing a cozy blanket in the seat, turning it into a comfortable nap spot for your furry friend, with the back serving as a playful climbing structure.\n"
     ]
    }
   ],
   "source": [
    "response = call_openai_api(prompt)\n",
    "response_content = response.choices[0].message.content\n",
    "\n",
    "print(response_content)"
   ]
  },
  {
   "cell_type": "code",
   "execution_count": 15,
   "metadata": {},
   "outputs": [
    {
     "name": "stdout",
     "output_type": "stream",
     "text": [
      "System fingerprint: fp_4f2ebda25a\n",
      "Prompt tokens: 156\n",
      "Completion tokens: 193\n",
      "Estimated price: $0.0003675\n"
     ]
    }
   ],
   "source": [
    "system_fingerprint = response.system_fingerprint\n",
    "prompt_tokens = response.usage.prompt_tokens\n",
    "completion_tokens = response.usage.total_tokens - response.usage.prompt_tokens\n",
    "\n",
    "print(f\"System fingerprint: {system_fingerprint}\")\n",
    "print(f\"Prompt tokens: {prompt_tokens}\")\n",
    "print(f\"Completion tokens: {completion_tokens}\")\n",
    "\n",
    "price = estimate_price(prompt_tokens, completion_tokens)\n",
    "print(f\"Estimated price: ${price}\")"
   ]
  },
  {
   "cell_type": "code",
   "execution_count": 17,
   "metadata": {},
   "outputs": [
    {
     "data": {
      "text/html": [
       "<div>\n",
       "<style scoped>\n",
       "    .dataframe tbody tr th:only-of-type {\n",
       "        vertical-align: middle;\n",
       "    }\n",
       "\n",
       "    .dataframe tbody tr th {\n",
       "        vertical-align: top;\n",
       "    }\n",
       "\n",
       "    .dataframe thead th {\n",
       "        text-align: right;\n",
       "    }\n",
       "</style>\n",
       "<table border=\"1\" class=\"dataframe\">\n",
       "  <thead>\n",
       "    <tr style=\"text-align: right;\">\n",
       "      <th></th>\n",
       "      <th>object_name</th>\n",
       "      <th>alternative_uses</th>\n",
       "    </tr>\n",
       "  </thead>\n",
       "  <tbody>\n",
       "    <tr>\n",
       "      <th>0</th>\n",
       "      <td>Chair</td>\n",
       "      <td>Transform it into a makeshift easel by draping...</td>\n",
       "    </tr>\n",
       "    <tr>\n",
       "      <th>1</th>\n",
       "      <td>Chair</td>\n",
       "      <td>Repurpose it as a unique pot rack by hanging v...</td>\n",
       "    </tr>\n",
       "    <tr>\n",
       "      <th>2</th>\n",
       "      <td>Chair</td>\n",
       "      <td>Use it as a clever plant display by placing di...</td>\n",
       "    </tr>\n",
       "    <tr>\n",
       "      <th>3</th>\n",
       "      <td>Chair</td>\n",
       "      <td>Convert it into a functional bedside table by ...</td>\n",
       "    </tr>\n",
       "    <tr>\n",
       "      <th>4</th>\n",
       "      <td>Chair</td>\n",
       "      <td>Reinvent it as a pet's paradise by placing a c...</td>\n",
       "    </tr>\n",
       "  </tbody>\n",
       "</table>\n",
       "</div>"
      ],
      "text/plain": [
       "  object_name                                   alternative_uses\n",
       "0       Chair  Transform it into a makeshift easel by draping...\n",
       "1       Chair  Repurpose it as a unique pot rack by hanging v...\n",
       "2       Chair  Use it as a clever plant display by placing di...\n",
       "3       Chair  Convert it into a functional bedside table by ...\n",
       "4       Chair  Reinvent it as a pet's paradise by placing a c..."
      ]
     },
     "execution_count": 17,
     "metadata": {},
     "output_type": "execute_result"
    }
   ],
   "source": [
    "store_result_json(object_name, response_content)\n",
    "df = create_csv_and_dataframe(object_name)\n",
    "df.head()"
   ]
  },
  {
   "cell_type": "markdown",
   "metadata": {},
   "source": [
    "## Evaluate the creativity"
   ]
  },
  {
   "cell_type": "code",
   "execution_count": null,
   "metadata": {},
   "outputs": [],
   "source": [
    "#todo\n",
    "# see if we can load the model of ocsai\n"
   ]
  },
  {
   "cell_type": "code",
   "execution_count": null,
   "metadata": {},
   "outputs": [],
   "source": []
  }
 ],
 "metadata": {
  "kernelspec": {
   "display_name": "ml",
   "language": "python",
   "name": "python3"
  },
  "language_info": {
   "codemirror_mode": {
    "name": "ipython",
    "version": 3
   },
   "file_extension": ".py",
   "mimetype": "text/x-python",
   "name": "python",
   "nbconvert_exporter": "python",
   "pygments_lexer": "ipython3",
   "version": "3.9.18"
  }
 },
 "nbformat": 4,
 "nbformat_minor": 2
}
